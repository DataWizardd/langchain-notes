{
 "cells": [
  {
   "cell_type": "markdown",
   "id": "ceaf4598-a3bf-47da-af10-c2a23eeba593",
   "metadata": {},
   "source": [
    "# 📘 텍스트 분할 (Text Splitter)\n",
    "\n",
    "---\n",
    "\n",
    "## 01. 텍스트 분할의 개념과 중요성. 다양한 전략의 활용\n",
    "\n",
    "### 📌 개념\n",
    "- LLM은 **Context Window** 제한이 있음 → 긴 문서를 그대로 입력 불가  \n",
    "- **Text Splitter**를 사용해 긴 문서를 잘게 쪼개서 모델이 이해할 수 있게 함  \n",
    "- 좋은 분할 전략은:\n",
    "  - **문맥 보존** (자르더라도 의미 단위 유지)\n",
    "  - **겹침(chunk_overlap)** 활용 → 앞뒤 문맥 손실 방지\n",
    "  - 문서 포맷(코드, 마크다운, HTML 등)에 맞는 전용 Splitter 선택\n",
    "\n",
    "---\n",
    "\n",
    "## 02. CharacterTextSplitter\n",
    "\n",
    "### 📌 개념\n",
    "- **단순 문자 단위**로 분할\n",
    "- 고정된 길이 기준 (예: 200자씩)"
   ]
  },
  {
   "cell_type": "code",
   "execution_count": 1,
   "id": "d36e2aab-f504-4a82-b267-a1435c20b843",
   "metadata": {},
   "outputs": [
    {
     "name": "stdout",
     "output_type": "stream",
     "text": [
      "['이 문장은 CharacterTextSplitter를 이용해 잘려나갑니다.']\n"
     ]
    }
   ],
   "source": [
    "from langchain_text_splitters import CharacterTextSplitter\n",
    "\n",
    "text = \"이 문장은 CharacterTextSplitter를 이용해 잘려나갑니다.\"\n",
    "splitter = CharacterTextSplitter(chunk_size=10, chunk_overlap=2)\n",
    "chunks = splitter.split_text(text)\n",
    "\n",
    "print(chunks)"
   ]
  },
  {
   "cell_type": "markdown",
   "id": "364d552a-8859-4612-91ed-447e9be90c71",
   "metadata": {},
   "source": [
    "## 03. RecursiveCharacterTextSplitter\n",
    "### 📌 개념\n",
    "\n",
    "- 문자/구두점/문단/줄바꿈 순서대로 분할을 시도\n",
    "\n",
    "- 의미 단위 최대한 보존\n",
    "\n",
    "- RAG 파이프라인에서 가장 많이 사용됨"
   ]
  },
  {
   "cell_type": "code",
   "execution_count": 2,
   "id": "71762808-23b0-4e74-a7bd-bd9d9c03ffe9",
   "metadata": {},
   "outputs": [
    {
     "name": "stdout",
     "output_type": "stream",
     "text": [
      "['LangChain은 LLM 활용을', '활용을 돕는 프레임워크입니다.', '텍스트 스플리터는 RAG에서 핵심', '핵심 요소입니다.']\n"
     ]
    }
   ],
   "source": [
    "from langchain_text_splitters import RecursiveCharacterTextSplitter\n",
    "\n",
    "text = \"LangChain은 LLM 활용을 돕는 프레임워크입니다.\\n텍스트 스플리터는 RAG에서 핵심 요소입니다.\"\n",
    "splitter = RecursiveCharacterTextSplitter(chunk_size=20, chunk_overlap=5)\n",
    "chunks = splitter.split_text(text)\n",
    "\n",
    "print(chunks)"
   ]
  },
  {
   "cell_type": "markdown",
   "id": "71fc2cab-de20-4f0f-bf0a-0b9f30731929",
   "metadata": {},
   "source": [
    "## 04. TokenTextSplitter\n",
    "### 📌 개념\n",
    "\n",
    "- 토큰 단위로 분할 (OpenAI tiktoken 사용)\n",
    "\n",
    "- 토큰 단위 제어가 필요할 때 유용"
   ]
  },
  {
   "cell_type": "code",
   "execution_count": 3,
   "id": "79dc0069-80be-4df2-adc7-a6d8a31e3c35",
   "metadata": {},
   "outputs": [
    {
     "name": "stdout",
     "output_type": "stream",
     "text": [
      "['이 문장은', '은 토큰 �', '� 단위로', '�� 분할됩', '��니다.']\n"
     ]
    }
   ],
   "source": [
    "from langchain_text_splitters import TokenTextSplitter\n",
    "\n",
    "text = \"이 문장은 토큰 단위로 분할됩니다.\"\n",
    "splitter = TokenTextSplitter(chunk_size=10, chunk_overlap=2)\n",
    "chunks = splitter.split_text(text)\n",
    "\n",
    "print(chunks)"
   ]
  },
  {
   "cell_type": "markdown",
   "id": "fcdc5b4d-df87-4be5-a8f9-cb517f0a074d",
   "metadata": {},
   "source": [
    "## 05. SemanticChunker\n",
    "### 📌 개념\n",
    "\n",
    "- 임베딩 기반 의미 단위 분할\n",
    "\n",
    "- 단순 길이 대신 문장/단락 의미 유사도로 구분\n",
    "\n",
    "- 성능: RAG 검색 품질 향상"
   ]
  },
  {
   "cell_type": "code",
   "execution_count": 2,
   "id": "54d5670e-b73c-4986-bbe6-2c24358fddcf",
   "metadata": {},
   "outputs": [],
   "source": [
    "# from langchain_experimental.text_splitter import SemanticChunker\n",
    "# from langchain_openai import OpenAIEmbeddings\n",
    "\n",
    "# embeddings = OpenAIEmbeddings()\n",
    "# splitter = SemanticChunker(embeddings)\n",
    "\n",
    "# text = \"LangChain은 다양한 기능을 제공합니다. 텍스트 분할은 핵심입니다.\"\n",
    "# chunks = splitter.split_text(text)\n",
    "\n",
    "# print(chunks)"
   ]
  },
  {
   "cell_type": "markdown",
   "id": "29433076-b063-428e-b9e6-1f663948e789",
   "metadata": {},
   "source": [
    "## 06. Code Splitter\n",
    "### 📌 개념\n",
    "\n",
    "- 코드 파일 전용 분할기\n",
    "\n",
    "- 함수, 클래스 단위로 잘라서 의미 보존"
   ]
  },
  {
   "cell_type": "code",
   "execution_count": 3,
   "id": "c6614bf3-0e83-484c-82f6-1ca06183d61e",
   "metadata": {},
   "outputs": [
    {
     "name": "stdout",
     "output_type": "stream",
     "text": [
      "['def add(a, b):\\n    return a + b', 'def multiply(a, b):\\n    return a * b']\n"
     ]
    }
   ],
   "source": [
    "from langchain_text_splitters import PythonCodeTextSplitter\n",
    "\n",
    "code = \"\"\"\n",
    "def add(a, b):\n",
    "    return a + b\n",
    "\n",
    "def multiply(a, b):\n",
    "    return a * b\n",
    "\"\"\"\n",
    "splitter = PythonCodeTextSplitter(chunk_size=40, chunk_overlap=0)\n",
    "chunks = splitter.split_text(code)\n",
    "\n",
    "print(chunks)"
   ]
  },
  {
   "cell_type": "markdown",
   "id": "8ad819c1-80e5-4a56-9b8b-c853ecfe2e8e",
   "metadata": {},
   "source": [
    "## 07. MarkdownHeaderTextSplitter\n",
    "### 📌 개념\n",
    "\n",
    "- Markdown 헤더(#, ##, ###) 기준 분할\n",
    "\n",
    "- 문서 구조(섹션 단위) 보존 가능"
   ]
  },
  {
   "cell_type": "code",
   "execution_count": 4,
   "id": "e19ff115-0de3-4933-b4c7-764c127be314",
   "metadata": {},
   "outputs": [
    {
     "name": "stdout",
     "output_type": "stream",
     "text": [
      "내용 A {'h1': '제목1'}\n",
      "내용 B {'h1': '제목1', 'h2': '소제목1'}\n",
      "내용 C {'h1': '제목1', 'h2': '소제목2'}\n"
     ]
    }
   ],
   "source": [
    "from langchain_text_splitters import MarkdownHeaderTextSplitter\n",
    "\n",
    "markdown_text = \"\"\"\n",
    "# 제목1\n",
    "내용 A\n",
    "\n",
    "## 소제목1\n",
    "내용 B\n",
    "\n",
    "## 소제목2\n",
    "내용 C\n",
    "\"\"\"\n",
    "\n",
    "headers = [(\"#\", \"h1\"), (\"##\", \"h2\")]\n",
    "splitter = MarkdownHeaderTextSplitter(headers_to_split_on=headers)\n",
    "chunks = splitter.split_text(markdown_text)\n",
    "\n",
    "for c in chunks:\n",
    "    print(c.page_content, c.metadata)"
   ]
  },
  {
   "cell_type": "markdown",
   "id": "a17fe52e-665d-4c31-8bd0-c5740ce700dc",
   "metadata": {},
   "source": [
    "## 08. HTMLHeaderTextSplitter\n",
    "### 📌 개념\n",
    "\n",
    "- HTML 태그( h1, h2 ...) 기준으로 분할\n",
    "\n",
    "- 웹페이지 문서 구조 보존 가능"
   ]
  },
  {
   "cell_type": "code",
   "execution_count": 5,
   "id": "7a53af09-337e-4140-8b25-720e0a638ec6",
   "metadata": {},
   "outputs": [
    {
     "name": "stdout",
     "output_type": "stream",
     "text": [
      "메인 제목 {'h1': '메인 제목'}\n",
      "이것은 첫 번째 단락입니다. {'h1': '메인 제목'}\n",
      "소제목 {'h1': '메인 제목', 'h2': '소제목'}\n",
      "두 번째 단락입니다. {'h1': '메인 제목', 'h2': '소제목'}\n"
     ]
    }
   ],
   "source": [
    "from langchain_text_splitters import HTMLHeaderTextSplitter\n",
    "\n",
    "html_text = \"\"\"\n",
    "<h1>메인 제목</h1>\n",
    "<p>이것은 첫 번째 단락입니다.</p>\n",
    "<h2>소제목</h2>\n",
    "<p>두 번째 단락입니다.</p>\n",
    "\"\"\"\n",
    "\n",
    "headers = [(\"h1\", \"h1\"), (\"h2\", \"h2\")]\n",
    "splitter = HTMLHeaderTextSplitter(headers_to_split_on=headers)\n",
    "chunks = splitter.split_text(html_text)\n",
    "\n",
    "for c in chunks:\n",
    "    print(c.page_content, c.metadata)"
   ]
  },
  {
   "cell_type": "markdown",
   "id": "fd1418c1-4685-44b1-b99a-f88b076c5c16",
   "metadata": {},
   "source": [
    "## 09. RecursiveJSONSplitter\n",
    "### 📌 개념\n",
    "\n",
    "- JSON 데이터를 재귀적으로 탐색하며 분할\n",
    "\n",
    "- 계층적 JSON → LLM이 처리 가능한 작은 단위로 변환"
   ]
  },
  {
   "cell_type": "code",
   "execution_count": 6,
   "id": "f3fc0e8a-dca7-4c6e-9626-ae88987ce080",
   "metadata": {},
   "outputs": [
    {
     "name": "stdout",
     "output_type": "stream",
     "text": [
      "{'id': 1, 'name': '철수', 'info': {'age': 25}}\n",
      "{'info': {'hobbies': ['독서', '등산', '게임']}}\n",
      "{'history': [{'year': 2020, 'event': '대학 입학'}, {'year': 2024, 'event': '졸업 예정'}]}\n"
     ]
    }
   ],
   "source": [
    "from langchain_text_splitters import RecursiveJsonSplitter\n",
    "\n",
    "json_data = {\n",
    "    \"id\": 1,\n",
    "    \"name\": \"철수\",\n",
    "    \"info\": {\n",
    "        \"age\": 25,\n",
    "        \"hobbies\": [\"독서\", \"등산\", \"게임\"]\n",
    "    },\n",
    "    \"history\": [\n",
    "        {\"year\": 2020, \"event\": \"대학 입학\"},\n",
    "        {\"year\": 2024, \"event\": \"졸업 예정\"}\n",
    "    ]\n",
    "}\n",
    "\n",
    "splitter = RecursiveJsonSplitter(max_chunk_size=50)\n",
    "chunks = splitter.split_json(json_data)\n",
    "\n",
    "for c in chunks:\n",
    "    print(c)"
   ]
  },
  {
   "cell_type": "markdown",
   "id": "29fddd78-40ee-4b37-865f-0e97c14e1f5e",
   "metadata": {},
   "source": [
    "# ✅ 정리\n",
    "\n",
    "- Character / RecursiveCharacter / Token : 길이/토큰 기반 기본 분할\n",
    "\n",
    "- SemanticChunker : 임베딩 기반 의미 단위 분할\n",
    "\n",
    "- Code Splitter : 코드 함수/클래스 단위 분할\n",
    "\n",
    "- Markdown / HTML Splitter : 문서 구조 보존\n",
    "\n",
    "- RecursiveJSONSplitter : JSON 계층적 분할\n",
    "\n",
    "- 적절한 Splitter 선택 = RAG, 검색 성능 향상의 핵심"
   ]
  }
 ],
 "metadata": {
  "kernelspec": {
   "display_name": "Python (my_new_env)",
   "language": "python",
   "name": "my_new_env"
  },
  "language_info": {
   "codemirror_mode": {
    "name": "ipython",
    "version": 3
   },
   "file_extension": ".py",
   "mimetype": "text/x-python",
   "name": "python",
   "nbconvert_exporter": "python",
   "pygments_lexer": "ipython3",
   "version": "3.9.20"
  }
 },
 "nbformat": 4,
 "nbformat_minor": 5
}
