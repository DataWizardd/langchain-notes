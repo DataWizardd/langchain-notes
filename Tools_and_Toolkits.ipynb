{
 "cells": [
  {
   "cell_type": "markdown",
   "id": "cf5ac816-f8c2-4de7-939c-c2eeabc0be60",
   "metadata": {},
   "source": [
    "### 📌 01. LangChain 기본 제공 Tools / Toolkits\n",
    "- **Tools**: LLM이 호출할 수 있는 함수/유틸리티\n",
    "- **Toolkits**: 특정 도메인 작업을 위해 묶어둔 Tools 집합\n",
    "- 대표적인 예시:\n",
    "  - **serpapi** → 검색엔진 API\n",
    "  - **llm-math** → 수학 계산기\n",
    "  - **python** → 파이썬 코드 실행\n",
    "  - **sql_database** → DB 질의\n",
    "  - **terminal** → 명령어 실행\n",
    "- **사용 흐름**:\n",
    "  - `load_tools()`로 불러오기\n",
    "  - `initialize_agent()`로 LLM과 결합\n",
    "  - 자연어 질의 → Agent가 적절한 Tool 선택/실행\n"
   ]
  },
  {
   "cell_type": "code",
   "execution_count": 3,
   "id": "03bacb6c-794b-4b2e-98f8-1f277fc138a5",
   "metadata": {},
   "outputs": [],
   "source": [
    "# # 랭체인에서 제공하는 다양한 도구(Tools) / 툴킷(Toolkits)\n",
    "\n",
    "# from langchain_openai import ChatOpenAI\n",
    "# from langchain.agents import initialize_agent, load_tools\n",
    "\n",
    "# # LLM 준비\n",
    "# llm = ChatOpenAI(model=\"gpt-3.5-turbo\", temperature=0)\n",
    "\n",
    "# # LangChain에서 제공하는 기본 Tools 불러오기\n",
    "# tools = load_tools([\"serpapi\", \"llm-math\"], llm=llm)\n",
    "\n",
    "# # Agent 초기화\n",
    "# agent = initialize_agent(tools, llm, agent=\"zero-shot-react-description\", verbose=True)\n",
    "\n",
    "# # 실행\n",
    "# agent.run(\"서울의 현재 날씨는? 그리고 3의 제곱근은 얼마야?\")"
   ]
  },
  {
   "cell_type": "markdown",
   "id": "b611e91d-e626-468a-82d7-9385e294a7ad",
   "metadata": {},
   "source": [
    "### 📌 사용자 정의 도구(Custom Tools) 만들기\n",
    "- LangChain에서는 간단히 `@tool` 데코레이터를 사용해 Tool 정의 가능\n",
    "- **구조**:\n",
    "  - 함수 정의\n",
    "  - docstring → Tool 설명 (Agent가 Tool 선택 시 사용)\n",
    "  - 입력/출력 타입 명시\n",
    "- LLM이 Agent 실행 중 필요시 이 Custom Tool을 호출\n",
    "- 장점:\n",
    "  - 서비스/도메인 특화 기능을 LLM에 손쉽게 통합\n",
    "  - 예: DB 조회, 내부 API 호출, 파일 읽기/쓰기\n"
   ]
  },
  {
   "cell_type": "code",
   "execution_count": 4,
   "id": "80952001-3096-4215-88df-bf7f034a0034",
   "metadata": {},
   "outputs": [
    {
     "name": "stderr",
     "output_type": "stream",
     "text": [
      "C:\\Users\\james\\AppData\\Local\\Temp\\ipykernel_18616\\3684849220.py:14: LangChainDeprecationWarning: LangChain agents will continue to be supported, but it is recommended for new use cases to be built with LangGraph. LangGraph offers a more flexible and full-featured framework for building agents, including support for tool-calling, persistence of state, and human-in-the-loop workflows. For details, refer to the `LangGraph documentation <https://langchain-ai.github.io/langgraph/>`_ as well as guides for `Migrating from AgentExecutor <https://python.langchain.com/docs/how_to/migrate_agent/>`_ and LangGraph's `Pre-built ReAct agent <https://langchain-ai.github.io/langgraph/how-tos/create-react-agent/>`_.\n",
      "  agent = initialize_agent(custom_tools, llm, agent=\"zero-shot-react-description\", verbose=True)\n",
      "C:\\Users\\james\\AppData\\Local\\Temp\\ipykernel_18616\\3684849220.py:17: LangChainDeprecationWarning: The method `Chain.run` was deprecated in langchain 0.1.0 and will be removed in 1.0. Use :meth:`~invoke` instead.\n",
      "  agent.run(\"제 이름은 DataWizardd인데, 인사 좀 해줘.\")\n"
     ]
    },
    {
     "name": "stdout",
     "output_type": "stream",
     "text": [
      "\n",
      "\n",
      "\u001b[1m> Entering new AgentExecutor chain...\u001b[0m\n",
      "\u001b[32;1m\u001b[1;3mI should use the greet function to greet the user by their name.\n",
      "Action: greet\n",
      "Action Input: \"DataWizardd\"\u001b[0m\n",
      "Observation: \u001b[36;1m\u001b[1;3m안녕하세요, DataWizardd! 오늘 하루도 힘내세요.\u001b[0m\n",
      "Thought:\u001b[32;1m\u001b[1;3mI now know the final answer\n",
      "Final Answer: 안녕하세요, DataWizardd! 오늘 하루도 힘내세요.\u001b[0m\n",
      "\n",
      "\u001b[1m> Finished chain.\u001b[0m\n"
     ]
    },
    {
     "data": {
      "text/plain": [
       "'안녕하세요, DataWizardd! 오늘 하루도 힘내세요.'"
      ]
     },
     "execution_count": 4,
     "metadata": {},
     "output_type": "execute_result"
    }
   ],
   "source": [
    "# 0사용자 정의 도구 (Custom Tool) 만들기\n",
    "\n",
    "from langchain.agents import tool\n",
    "\n",
    "# @tool 데코레이터 사용\n",
    "@tool\n",
    "def greet(name: str) -> str:\n",
    "    \"\"\"사용자의 이름을 받아 인사말을 생성한다.\"\"\"\n",
    "    return f\"안녕하세요, {name}! 오늘 하루도 힘내세요.\"\n",
    "\n",
    "# LLM과 연결\n",
    "custom_tools = [greet]\n",
    "\n",
    "agent = initialize_agent(custom_tools, llm, agent=\"zero-shot-react-description\", verbose=True)\n",
    "\n",
    "# 실행\n",
    "agent.run(\"제 이름은 DataWizardd인데, 인사 좀 해줘.\")"
   ]
  },
  {
   "cell_type": "markdown",
   "id": "4af87696-58ed-4c6a-b906-4e5968e43ac3",
   "metadata": {},
   "source": [
    "# ✅ 최종 정리\n",
    "- **Tools**: LLM이 실행할 수 있는 단일 유틸리티\n",
    "- **Toolkits**: 특정 목적에 맞춘 Tool 집합\n",
    "- **기본 제공 예시**: 검색, 수학, SQL, Python, Terminal 등\n",
    "- **Custom Tool**: @tool 데코레이터로 함수 정의 후 Agent에 연결\n",
    "- 👉 Tools는 LLM을 “실행력 있는 에이전트”로 확장하는 핵심 모듈\n"
   ]
  },
  {
   "cell_type": "code",
   "execution_count": null,
   "id": "148084cc-e3f4-48ea-b24c-d71bddb8d498",
   "metadata": {},
   "outputs": [],
   "source": []
  }
 ],
 "metadata": {
  "kernelspec": {
   "display_name": "Python (my_new_env)",
   "language": "python",
   "name": "my_new_env"
  },
  "language_info": {
   "codemirror_mode": {
    "name": "ipython",
    "version": 3
   },
   "file_extension": ".py",
   "mimetype": "text/x-python",
   "name": "python",
   "nbconvert_exporter": "python",
   "pygments_lexer": "ipython3",
   "version": "3.9.20"
  }
 },
 "nbformat": 4,
 "nbformat_minor": 5
}
