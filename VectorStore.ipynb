{
 "cells": [
  {
   "cell_type": "markdown",
   "id": "6815ab4e-dccc-4f45-8c9f-74ff10225ad1",
   "metadata": {},
   "source": [
    "### 📌 벡터스토어(VectorStore) 개요\n",
    "- **정의**: 텍스트 임베딩 벡터를 저장/검색하는 데이터베이스\n",
    "- **주요 기능**:\n",
    "  - Insert: 벡터 삽입\n",
    "  - Similarity Search: 코사인 유사도/내적 기반 검색\n",
    "  - Filtering: 메타데이터 기반 필터링\n",
    "- **활용**:\n",
    "  - RAG(Retrieval Augmented Generation) 파이프라인 핵심\n",
    "  - 문서 검색, 추천 시스템, 의미 기반 QA\n",
    "\n",
    "---\n",
    "\n"
   ]
  },
  {
   "cell_type": "markdown",
   "id": "02e52f5c-0c80-406a-b23f-c6d646be04be",
   "metadata": {},
   "source": [
    "## 02. Chroma\n",
    "### 📌 Chroma\n",
    "- **오픈소스 벡터 DB**\n",
    "- 특징:\n",
    "  - Python 환경에서 가볍게 시작 가능\n",
    "  - 영구 저장(디스크) 및 인메모리 지원\n",
    "  - 필터링/메타데이터 검색 제공\n",
    "- 장점:\n",
    "  - 설치/시작이 간단 (RAG 프로토타입에 적합)\n",
    "  - 무료/오픈소스\n",
    "- 단점:\n",
    "  - 대규모 분산 환경에는 한계\n",
    "- 👉 주로 **개인 프로젝트, 소규모 PoC, 연구용**에 적합\n"
   ]
  },
  {
   "cell_type": "markdown",
   "id": "1ab1503f-3058-478a-bd02-735c64fa5b92",
   "metadata": {},
   "source": [
    "### 📌 FAISS (Facebook AI Similarity Search)\n",
    "- **Facebook AI Research 개발 오픈소스 라이브러리**\n",
    "- 특징:\n",
    "  - 벡터 검색 최적화 (코사인, L2 distance, 내적)\n",
    "  - CPU/GPU 가속 지원\n",
    "  - 대용량 데이터(수억~수십억 벡터) 처리 가능\n",
    "- 장점:\n",
    "  - 빠른 검색 속도\n",
    "  - GPU 활용 시 매우 효율적\n",
    "- 단점:\n",
    "  - 스토리지/메타데이터 관리 기능 부족 (따라서 보통 외부 DB와 조합 필요)\n",
    "- 👉 **온프레미스 환경**에서 고성능 검색이 필요할 때 적합"
   ]
  },
  {
   "cell_type": "markdown",
   "id": "3310ac0e-5fab-498b-9e51-cccb2bf337fe",
   "metadata": {},
   "source": [
    "### 📌 Pinecone\n",
    "- **클라우드 기반 벡터 DB 서비스**\n",
    "- 특징:\n",
    "  - 완전 관리형 (Managed Service)\n",
    "  - 고가용성, 자동 스케일링 지원\n",
    "  - API 기반 접근\n",
    "- 장점:\n",
    "  - 인프라 관리 불필요 (개발자가 DB 관리 X)\n",
    "  - 분산 환경 확장성 우수\n",
    "- 단점:\n",
    "  - 유료 서비스 (무료 tier 한정)\n",
    "- 👉 **클라우드 RAG 서비스 구축**, **프로덕션 배포**에 적합"
   ]
  },
  {
   "cell_type": "markdown",
   "id": "727a1616-dd1c-4ce0-bef8-9bf962c5d1a4",
   "metadata": {},
   "source": [
    "## ✅ 최종 정리\n",
    "\n",
    "- Chroma: 가볍고 빠른 오픈소스 DB → 프로토타입에 적합\n",
    "\n",
    "- FAISS: 고성능 온프레미스 검색 → 연구, GPU 환경 최적\n",
    "\n",
    "- Pinecone: 관리형 클라우드 벡터 DB → 실서비스에 적합\n",
    "\n",
    "- 벡터스토어 선택 기준: 데이터 크기, 보안/온프레미스 여부, 운영/관리 편의성, 예산"
   ]
  },
  {
   "cell_type": "code",
   "execution_count": null,
   "id": "774bb57d-3f6b-491c-a3d3-e55df0ad27d8",
   "metadata": {},
   "outputs": [],
   "source": []
  }
 ],
 "metadata": {
  "kernelspec": {
   "display_name": "Python (my_new_env)",
   "language": "python",
   "name": "my_new_env"
  },
  "language_info": {
   "codemirror_mode": {
    "name": "ipython",
    "version": 3
   },
   "file_extension": ".py",
   "mimetype": "text/x-python",
   "name": "python",
   "nbconvert_exporter": "python",
   "pygments_lexer": "ipython3",
   "version": "3.9.20"
  }
 },
 "nbformat": 4,
 "nbformat_minor": 5
}
