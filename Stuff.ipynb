{
 "cells": [
  {
   "cell_type": "markdown",
   "id": "4ddcb031-26be-4d46-8ef9-88ca5632ed32",
   "metadata": {},
   "source": [
    "### 📌 Stuff 요약\n",
    "- 모든 문서를 **한 번에 LLM에 넣고 요약**하는 방식\n",
    "- 장점: 빠르고 단순\n",
    "- 단점: context window 제한으로 긴 문서에는 부적합"
   ]
  },
  {
   "cell_type": "markdown",
   "id": "8f72838e-918e-4cd3-9d51-5116ae025400",
   "metadata": {},
   "source": [
    "### 📌 Map Reduce 요약\n",
    "- **Map 단계**: 각 문서를 요약\n",
    "- **Reduce 단계**: 요약들을 모아 최종 요약\n",
    "- 장점: 긴 문서에도 확장 가능\n",
    "- 단점: 요약 과정에서 세부 맥락 손실 가능"
   ]
  },
  {
   "cell_type": "markdown",
   "id": "fdbe776d-717d-4143-97c0-e9b5fa479f13",
   "metadata": {},
   "source": [
    "### 📌 Map Refine 요약\n",
    "- **첫 문서 요약** → 이후 문서들을 보며 **점진적 보완**\n",
    "- 장점: 정보 누락 줄이고 맥락 보존 ↑\n",
    "- 단점: 순서에 민감, 처리시간 증가"
   ]
  },
  {
   "cell_type": "markdown",
   "id": "49a5be30-08b5-41d1-b372-789bae42b96c",
   "metadata": {},
   "source": [
    "### 📌 Chain of Density (COD) 요약\n",
    "- 단계적으로 요약 → 점점 더 압축\n",
    "- 요약 문장이 밀도 있게 핵심만 담도록 반복 압축\n",
    "- 장점: 최종적으로 매우 간결한 요약 생성"
   ]
  },
  {
   "cell_type": "markdown",
   "id": "e7af43c8-c41d-4956-b384-a5728667a283",
   "metadata": {},
   "source": [
    "### 📌 Clustering Map Refine 요약\n",
    "- 문서를 **주제별 클러스터링** → 각 클러스터 요약\n",
    "- 그 후 요약들을 다시 refine (점진 보완)\n",
    "- 장점: 주제별 요약 가능, 대규모 문서에 유용"
   ]
  },
  {
   "cell_type": "markdown",
   "id": "777ca33b-7e7b-45ed-87db-50f9c1f4dcca",
   "metadata": {},
   "source": [
    "### 📌 SQL 쿼리 생성기 (create_sql_query_chain)\n",
    "- 자연어 질문 → SQL 쿼리 자동 생성\n",
    "- 구성:\n",
    "  - LLM: 질문을 SQL로 변환\n",
    "  - SQLDatabase 유틸: 실제 DB 실행\n",
    "- 장점:\n",
    "  - 데이터베이스 질의 자동화\n",
    "  - 분석/리포팅 자동화에 유용\n",
    "- 유의사항:\n",
    "  - LLM이 틀린 SQL 생성할 수 있음 → 후처리 필요\n"
   ]
  },
  {
   "cell_type": "markdown",
   "id": "2f1a69e6-1bde-48e6-b31b-6bd7a3c5e5d2",
   "metadata": {},
   "source": [
    "# ✅ 최종 정리\n",
    "- **Stuff 요약**: 단순/빠름, 긴 문서 불가\n",
    "- **Map Reduce 요약**: 확장성 ↑, 세부 손실 가능\n",
    "- **Map Refine 요약**: 보완형 요약, 순서 의존성\n",
    "- **Chain of Density**: 밀도 있는 핵심 요약\n",
    "- **Clustering Map Refine**: 클러스터별 요약 → refine\n",
    "- **SQL Query Chain**: 자연어 → SQL 변환, DB 자동 질의\n",
    "\n",
    "👉 상황/데이터 크기/목적에 맞게 Chain 방식을 선택해야 함\n"
   ]
  },
  {
   "cell_type": "code",
   "execution_count": null,
   "id": "b954e03e-8c8f-40d4-9aa9-1dff1c033b74",
   "metadata": {},
   "outputs": [],
   "source": []
  }
 ],
 "metadata": {
  "kernelspec": {
   "display_name": "Python (my_new_env)",
   "language": "python",
   "name": "my_new_env"
  },
  "language_info": {
   "codemirror_mode": {
    "name": "ipython",
    "version": 3
   },
   "file_extension": ".py",
   "mimetype": "text/x-python",
   "name": "python",
   "nbconvert_exporter": "python",
   "pygments_lexer": "ipython3",
   "version": "3.9.20"
  }
 },
 "nbformat": 4,
 "nbformat_minor": 5
}
