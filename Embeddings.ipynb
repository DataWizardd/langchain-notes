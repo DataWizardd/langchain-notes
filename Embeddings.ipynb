{
 "cells": [
  {
   "cell_type": "markdown",
   "id": "99ca4c14-3d65-4940-9636-f51789543433",
   "metadata": {},
   "source": [
    "### 📌 임베딩(Embeddings) 개요\n",
    "- 텍스트 → 고차원 벡터(Vector)로 변환하는 과정\n",
    "- 비슷한 의미의 문장은 가까운 벡터로 매핑됨\n",
    "- 활용처:\n",
    "  - **RAG(Retrieval-Augmented Generation)**: 문서 검색\n",
    "  - **클러스터링 / 분류**: 의미 기반 그룹화\n",
    "  - **추천 시스템**: 유사 문서/콘텐츠 탐색\n",
    "- OpenAI, HuggingFace, Upstage 등 다양한 임베딩 모델 지원"
   ]
  },
  {
   "cell_type": "markdown",
   "id": "c747838a-334e-4f7e-b920-f7c5a90fba9c",
   "metadata": {},
   "source": [
    "### 📌 OpenAIEmbeddings\n",
    "- OpenAI에서 제공하는 임베딩 모델\n",
    "- 대표 모델:\n",
    "  - **text-embedding-3-small (1536차원, 저렴, 빠름)**\n",
    "  - **text-embedding-3-large (3072차원, 더 정확)**\n",
    "- 사용 예시:\n",
    "  - `embed_query()` → 한 문장\n",
    "  - `embed_documents()` → 여러 문서"
   ]
  },
  {
   "cell_type": "markdown",
   "id": "6952a167-c3ad-4617-b353-57971342178c",
   "metadata": {},
   "source": [
    "### 📌 캐시 임베딩(CacheBackedEmbeddings)\n",
    "- 같은 텍스트 → 임베딩을 다시 계산하지 않고 **캐시에 저장/재사용**\n",
    "- 비용 절감 + 속도 향상\n",
    "- 저장소 타입:\n",
    "  - InMemoryStore (휘발성)\n",
    "  - LocalFileStore (디스크)\n",
    "  - Redis, DB 등 확장 가능"
   ]
  },
  {
   "cell_type": "markdown",
   "id": "3f9235b8-c08d-4e02-8738-a1d38f4a6842",
   "metadata": {},
   "source": [
    "### 📌 HuggingFaceEmbeddings\n",
    "- 로컬/오픈소스 임베딩 모델\n",
    "- 대표 모델: `sentence-transformers` 계열\n",
    "- 장점:\n",
    "  - 인터넷 없이 실행 가능\n",
    "  - 특정 언어(한국어 등)에 특화된 모델 활용 가능\n",
    "- 단점:\n",
    "  - OpenAI보다 정확도/성능이 낮을 수 있음"
   ]
  },
  {
   "cell_type": "markdown",
   "id": "745ef481-3b71-484e-b0d7-5baa3a9016e7",
   "metadata": {},
   "source": [
    "### 📌 UpstageEmbeddings\n",
    "- 한국 기업 **업스테이지(Upstage)** 제공 임베딩\n",
    "- 한국어 문서 처리에 강점\n",
    "- 모델: `solar-embedding-1-large` 등\n",
    "- 활용: 한국어 RAG, 금융/공공 데이터 처리에 적합"
   ]
  },
  {
   "cell_type": "markdown",
   "id": "4414f5a8-48f1-46cc-bb87-fcbc3b98e625",
   "metadata": {},
   "source": [
    "### 📌 OllamaEmbeddings\n",
    "- **로컬에서 실행되는 Ollama LLM**을 통한 임베딩\n",
    "- 특징:\n",
    "  - 인터넷 없이 로컬에서 임베딩 생성\n",
    "  - `nomic-embed-text`, `mxbai-embed-large` 등 지원\n",
    "- 장점:\n",
    "  - 프라이버시 강화\n",
    "  - 서버 비용 절감\n",
    "- 단점:\n",
    "  - 설치 및 환경 설정 필요 (Ollama 실행 중이어야 함)"
   ]
  },
  {
   "cell_type": "markdown",
   "id": "532f604f-4a68-4b93-b9a0-3accfb3aec09",
   "metadata": {},
   "source": [
    "# ✅ 최종 정리\n",
    "- **OpenAIEmbeddings** → 가장 범용적, 빠르고 안정적  \n",
    "- **CacheBackedEmbeddings** → 비용 절감/속도 개선  \n",
    "- **HuggingFaceEmbeddings** → 로컬/특화 언어 모델  \n",
    "- **UpstageEmbeddings** → 한국어 특화  \n",
    "- **OllamaEmbeddings** → 로컬 LLM 기반, 프라이버시 강화  "
   ]
  },
  {
   "cell_type": "code",
   "execution_count": null,
   "id": "8929eb47-a51f-4201-a9f0-feaa34a11ee9",
   "metadata": {},
   "outputs": [],
   "source": []
  }
 ],
 "metadata": {
  "kernelspec": {
   "display_name": "Python (my_new_env)",
   "language": "python",
   "name": "my_new_env"
  },
  "language_info": {
   "codemirror_mode": {
    "name": "ipython",
    "version": 3
   },
   "file_extension": ".py",
   "mimetype": "text/x-python",
   "name": "python",
   "nbconvert_exporter": "python",
   "pygments_lexer": "ipython3",
   "version": "3.9.20"
  }
 },
 "nbformat": 4,
 "nbformat_minor": 5
}
