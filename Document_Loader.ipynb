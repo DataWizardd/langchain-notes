{
 "cells": [
  {
   "cell_type": "markdown",
   "id": "8391c1a5-87ca-45ed-b223-99376fa03e03",
   "metadata": {},
   "source": [
    "# 📘 도큐먼트 로더 (Document Loader)\n",
    "\n",
    "---\n",
    "\n",
    "## 01. 도큐먼트 로더의 종류, 기본 구조, Document 구조\n",
    "\n",
    "### 📌 개념\n",
    "- **Document Loader** : 외부 데이터를 불러와 LangChain이 처리할 수 있는 `Document` 객체로 변환\n",
    "- `Document` 구조:\n",
    "  - `page_content`: 문서의 실제 텍스트\n",
    "  - `metadata`: 파일 경로, 소스, 페이지 번호 등 부가정보\n",
    "\n",
    "### 📌 주요 Loader 종류\n",
    "- **파일 로더**: PDF, CSV, HWP, TXT 등\n",
    "- **웹 로더**: URL, HTML, RSS, WebBase 등\n",
    "- **디렉토리 로더**: 폴더 내 여러 파일 일괄 처리\n",
    "- **멀티모달 로더**: 표/이미지 포함 문서 (예: LlamaParser)\n",
    "\n",
    "---\n",
    "\n",
    "## 02. Document, Document Loader 의 구조 이해하기"
   ]
  },
  {
   "cell_type": "code",
   "execution_count": 1,
   "id": "a7eaf252-b457-4b97-8811-9702bbe19918",
   "metadata": {},
   "outputs": [
    {
     "name": "stdout",
     "output_type": "stream",
     "text": [
      "sk-proj-73\n"
     ]
    }
   ],
   "source": [
    "### 💻 예시 코드\n",
    "import os\n",
    "from dotenv import load_dotenv\n",
    "\n",
    "load_dotenv()\n",
    "api_key = os.getenv(\"OPENAI_API_KEY\")\n",
    "print(api_key[:10]) "
   ]
  },
  {
   "cell_type": "code",
   "execution_count": 2,
   "id": "7a269551-02c7-4241-a21d-d0aa22211cfd",
   "metadata": {},
   "outputs": [
    {
     "name": "stdout",
     "output_type": "stream",
     "text": [
      "이것은 문서 본문 내용입니다.\n",
      "{'source': 'example.txt', 'page': 1}\n"
     ]
    }
   ],
   "source": [
    "from langchain.schema import Document\n",
    "\n",
    "# Document 예시\n",
    "doc = Document(\n",
    "    page_content=\"이것은 문서 본문 내용입니다.\",\n",
    "    metadata={\"source\": \"example.txt\", \"page\": 1}\n",
    ")\n",
    "\n",
    "print(doc.page_content)\n",
    "print(doc.metadata)"
   ]
  },
  {
   "cell_type": "markdown",
   "id": "ba80ca58-e506-4802-bb9d-d5b19df4cb39",
   "metadata": {},
   "source": [
    "## 03. PDF 로더\n",
    "### 📌 개념\n",
    "\n",
    "- PDF 파일을 페이지 단위로 텍스트 추출\n",
    "\n",
    "- OCR 옵션을 사용하면 이미지 PDF도 처리 가능"
   ]
  },
  {
   "cell_type": "code",
   "execution_count": 3,
   "id": "5e2b32f4-b91b-4bae-9d55-1586ab1abbe2",
   "metadata": {},
   "outputs": [
    {
     "name": "stdout",
     "output_type": "stream",
     "text": [
      "AGR-VII-2019-②-142\n",
      "금융보안 거버넌스 가이드\n",
      "2019. 12.\n",
      "{'producer': 'Hancom PDF 1.3.0.534', 'creator': 'Hwp 2018 10.0.0.8223', 'creationdate': '2019-12-31T14:56:26+09:00', 'author': '(주)한글과컴퓨터', 'moddate': '2019-12-31T14:56:26+09:00', 'pdfversion': '1.4', 'source': './data/(금융보안원) 금융보안 거버넌스 가이드.pdf', 'total_pages': 63, 'page': 0, 'page_label': '1'}\n"
     ]
    }
   ],
   "source": [
    "from langchain_community.document_loaders import PyPDFLoader\n",
    "\n",
    "loader = PyPDFLoader(\"./data/(금융보안원) 금융보안 거버넌스 가이드.pdf\")\n",
    "docs = loader.load()\n",
    "\n",
    "print(docs[0].page_content[:200])\n",
    "print(docs[0].metadata)"
   ]
  },
  {
   "cell_type": "markdown",
   "id": "5a02bdf3-3bc1-4917-b236-c2b10a98854e",
   "metadata": {},
   "source": [
    "## 04. HWP 로더\n",
    "### 📌 개념\n",
    "\n",
    "- 한글(HWP) 문서 로드\n",
    "\n",
    "- hwp5txt 라이브러리 기반"
   ]
  },
  {
   "cell_type": "code",
   "execution_count": 4,
   "id": "1b787e5c-f14d-4e73-91e4-4a47a28eccab",
   "metadata": {},
   "outputs": [],
   "source": [
    "# from langchain.document_loaders import UnstructuredHWP5Loader\n",
    "\n",
    "# loader = UnstructuredHWP5Loader(\"example.hwp\")\n",
    "# docs = loader.load()\n",
    "\n",
    "# print(docs[0].page_content[:200])"
   ]
  },
  {
   "cell_type": "markdown",
   "id": "e85db493-727c-448b-b1a9-116d91e8a0c0",
   "metadata": {},
   "source": [
    "## 05. CSV 로더 (효과적인 CSV 파일 처리)\n",
    "### 📌 개념\n",
    "\n",
    "- CSV를 각 행(row) 단위 Document로 로드\n",
    "\n",
    "- metadata에 컬럼명 저장 가능"
   ]
  },
  {
   "cell_type": "code",
   "execution_count": 5,
   "id": "f9a625f1-aba7-4f88-bb67-3084f5695aeb",
   "metadata": {},
   "outputs": [],
   "source": [
    "# from langchain.document_loaders import CSVLoader\n",
    "\n",
    "# loader = CSVLoader(file_path=\"example.csv\", encoding=\"utf-8\")\n",
    "# docs = loader.load()\n",
    "\n",
    "# print(docs[0].page_content)\n",
    "# print(docs[0].metadata)"
   ]
  },
  {
   "cell_type": "markdown",
   "id": "a70f106c-a4a4-4031-bf14-2a9209cbb599",
   "metadata": {},
   "source": [
    "## 06. WebBase 로더 (웹 정보 크롤링)\n",
    "### 📌 개념\n",
    "\n",
    "- 특정 웹페이지의 HTML → 텍스트로 변환\n",
    "\n",
    "- 크롤링 후 Document 객체 반환"
   ]
  },
  {
   "cell_type": "code",
   "execution_count": 7,
   "id": "d60a04ca-0f6b-4b0d-aea5-cb83f2dc8d86",
   "metadata": {},
   "outputs": [],
   "source": [
    "# from langchain.document_loaders import WebBaseLoader\n",
    "\n",
    "# loader = WebBaseLoader(\"https://news.ycombinator.com/\")\n",
    "# docs = loader.load()\n",
    "\n",
    "# print(docs[0].page_content[:200])"
   ]
  },
  {
   "cell_type": "markdown",
   "id": "28e0ca76-c927-4912-baad-ec2616abb620",
   "metadata": {},
   "source": [
    "## 07. Directory 로더\n",
    "### 📌 개념\n",
    "\n",
    "- 디렉토리 내 여러 파일을 한 번에 로드\n",
    "\n",
    "- 다양한 파일 포맷 지원"
   ]
  },
  {
   "cell_type": "code",
   "execution_count": 9,
   "id": "1e1b0ef7-7e25-4a03-a70d-f67262d4ae60",
   "metadata": {},
   "outputs": [],
   "source": [
    "# from langchain.document_loaders import DirectoryLoader\n",
    "\n",
    "# loader = DirectoryLoader(\"docs/\", glob=\"**/*.txt\")\n",
    "# docs = loader.load()\n",
    "\n",
    "# print(len(docs))  "
   ]
  },
  {
   "cell_type": "markdown",
   "id": "b76bc1a5-fdc1-4cc3-874f-7a5783e15fe7",
   "metadata": {},
   "source": [
    "## 08. Upstage LayoutAnalysis 로더\n",
    "### 📌 개념\n",
    "\n",
    "- 한국 기업 Upstage가 제공하는 문서 레이아웃 분석 API\n",
    "\n",
    "- PDF 내 표, 이미지, 레이아웃을 정확히 파싱\n",
    "\n",
    "- 고품질 RAG 파이프라인 구축 시 유용"
   ]
  },
  {
   "cell_type": "code",
   "execution_count": 10,
   "id": "a1dd3473-54f3-40fd-bd4b-78425fbd0660",
   "metadata": {},
   "outputs": [],
   "source": [
    "# # 설치 필요\n",
    "# # pip install upstage-layout\n",
    "\n",
    "# from langchain_community.document_loaders import UpstageLayoutAnalysisLoader\n",
    "\n",
    "# loader = UpstageLayoutAnalysisLoader(\"example.pdf\", api_key=\"YOUR_API_KEY\")\n",
    "# docs = loader.load()\n",
    "\n",
    "# print(docs[0].page_content[:200])"
   ]
  },
  {
   "cell_type": "markdown",
   "id": "5d8de402-640d-4734-8a19-b777be923bdd",
   "metadata": {},
   "source": [
    "## 09. LlamaParser 로더 (멀티모달: 이미지/표 파싱)\n",
    "### 📌 개념\n",
    "\n",
    "- LlamaIndex 기반 고급 로더\n",
    "\n",
    "- 이미지, 표, 도표까지 파싱 가능\n",
    "\n",
    "- 멀티모달 RAG 구현에 활용"
   ]
  },
  {
   "cell_type": "code",
   "execution_count": 11,
   "id": "ef5dc0eb-8329-42fb-9690-795d8af171ce",
   "metadata": {},
   "outputs": [],
   "source": [
    "# # pip install llama-index\n",
    "# from llama_index.readers.file import PyMuPDFReader\n",
    "\n",
    "# loader = PyMuPDFReader()\n",
    "# docs = loader.load(file_path=\"example_with_tables.pdf\")\n",
    "\n",
    "# print(docs[0].text[:200])"
   ]
  },
  {
   "cell_type": "markdown",
   "id": "c3018a55-78e0-4b49-98f4-644295cf0af9",
   "metadata": {},
   "source": [
    "## ✅ 정리\n",
    "\n",
    "- Document = page_content + metadata\n",
    "- \n",
    "- 파일 형식에 맞는 Loader 선택 가능\n",
    "\n",
    "- PDF → PyPDFLoader\n",
    "\n",
    "- HWP → UnstructuredHWP5Loader\n",
    "\n",
    "- CSV → CSVLoader\n",
    "\n",
    "- 웹 → WebBaseLoader\n",
    "\n",
    "- 디렉토리 → DirectoryLoader\n",
    "\n",
    "- Upstage → 한국어 문서 레이아웃 최적\n",
    "\n",
    "- LlamaParser → 멀티모달(이미지·표) 분석\n",
    "\n",
    "- RAG 파이프라인을 만들 때 가장 중요한 입력 단계 = Document Loader"
   ]
  },
  {
   "cell_type": "code",
   "execution_count": null,
   "id": "a0f41535-bf27-4703-961a-896e0a9c6779",
   "metadata": {},
   "outputs": [],
   "source": []
  }
 ],
 "metadata": {
  "kernelspec": {
   "display_name": "Python (my_new_env)",
   "language": "python",
   "name": "my_new_env"
  },
  "language_info": {
   "codemirror_mode": {
    "name": "ipython",
    "version": 3
   },
   "file_extension": ".py",
   "mimetype": "text/x-python",
   "name": "python",
   "nbconvert_exporter": "python",
   "pygments_lexer": "ipython3",
   "version": "3.9.20"
  }
 },
 "nbformat": 4,
 "nbformat_minor": 5
}
