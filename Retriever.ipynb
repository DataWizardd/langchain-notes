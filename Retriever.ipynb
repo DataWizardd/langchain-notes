{
 "cells": [
  {
   "cell_type": "markdown",
   "id": "c9d492a9-34c9-4e09-bbb4-8c282647a8a4",
   "metadata": {},
   "source": [
    "### 📌 검색기(Retriever) 개요\n",
    "- Retriever: **쿼리 → 관련 문서 반환** 역할\n",
    "- VectorStore 위에 얹어서 사용\n",
    "- 다양한 변형:\n",
    "  - Contextual Compression\n",
    "  - Ensemble\n",
    "  - Parent/Child 문서 검색\n",
    "  - MultiQuery, MultiVector\n",
    "  - TimeWeighted 등\n",
    "- 👉 RAG 파이프라인에서 **정확한 맥락 추출의 핵심 모듈**"
   ]
  },
  {
   "cell_type": "code",
   "execution_count": 1,
   "id": "0da93693-8137-48d3-885c-acab09883a33",
   "metadata": {},
   "outputs": [],
   "source": [
    "# # 01. 검색기(Retriever) 개요\n",
    "# from langchain_openai import OpenAIEmbeddings\n",
    "# from langchain_community.vectorstores import FAISS\n",
    "\n",
    "# texts = [\"강아지는 충성스럽다\", \"고양이는 귀엽다\", \"호랑이는 멋지다\", \"사자는 숲의 왕이다\"]\n",
    "# embeddings = OpenAIEmbeddings()\n",
    "\n",
    "# # 벡터스토어 생성\n",
    "# vectorstore = FAISS.from_texts(texts, embeddings)\n",
    "\n",
    "# # 기본 검색기\n",
    "# retriever = vectorstore.as_retriever()\n",
    "# results = retriever.invoke(\"집에서 많이 키우는 동물\")\n",
    "\n",
    "# for r in results:\n",
    "#     print(r.page_content)"
   ]
  },
  {
   "cell_type": "markdown",
   "id": "8944835a-9464-4c2d-b8d9-ef6f7b7aa958",
   "metadata": {},
   "source": [
    "### 📌 벡터스토어 기반 검색기\n",
    "- 가장 기본적인 Retriever\n",
    "- 내부적으로 **벡터 유사도 검색** 수행\n",
    "- 옵션:\n",
    "  - `k`: 검색 결과 개수\n",
    "  - `search_type`: similarity, mmr 등"
   ]
  },
  {
   "cell_type": "code",
   "execution_count": 3,
   "id": "0a45442c-23c6-4c91-9e81-94004f34af8c",
   "metadata": {},
   "outputs": [],
   "source": [
    "# # 02. 벡터스토어 기반 검색기 (VectorStore-backed Retriever)\n",
    "# retriever = vectorstore.as_retriever(search_kwargs={\"k\": 2})\n",
    "# results = retriever.invoke(\"멋진 동물\")\n",
    "\n",
    "# for r in results:\n",
    "#     print(r.page_content)"
   ]
  },
  {
   "cell_type": "markdown",
   "id": "42c2ceb0-b0f9-4829-bff4-f5ab1e6d4b91",
   "metadata": {},
   "source": [
    "### 📌 ContextualCompressionRetriever\n",
    "- 기본 검색 결과에서 불필요한 문맥 제거\n",
    "- **LLM 압축기**를 이용해 핵심 내용만 반환\n",
    "- 긴 문서 요약 후 전달 시 유용"
   ]
  },
  {
   "cell_type": "code",
   "execution_count": 5,
   "id": "daefaff4-080b-46b2-8e3d-bbe58fc82c3c",
   "metadata": {},
   "outputs": [],
   "source": [
    "# # 03. 문서 압축기 (ContextualCompressionRetriever)\n",
    "# from langchain.retrievers import ContextualCompressionRetriever\n",
    "# from langchain.retrievers.document_compressors import LLMChainExtractor\n",
    "# from langchain_openai import ChatOpenAI\n",
    "\n",
    "# llm = ChatOpenAI(model=\"gpt-3.5-turbo\")\n",
    "# compressor = LLMChainExtractor.from_llm(llm)\n",
    "\n",
    "# compression_retriever = ContextualCompressionRetriever(\n",
    "#     base_retriever=retriever, \n",
    "#     base_compressor=compressor\n",
    "# )\n",
    "\n",
    "# results = compression_retriever.invoke(\"동물 특징 요약\")\n",
    "# for r in results:\n",
    "#     print(r.page_content)"
   ]
  },
  {
   "cell_type": "markdown",
   "id": "489fb366-e214-49ee-ba23-4ced20829486",
   "metadata": {},
   "source": [
    "### 📌 EnsembleRetriever\n",
    "- 여러 검색기 결합\n",
    "  - 예: VectorStore + BM25(키워드)\n",
    "- 서로 다른 검색 전략을 **가중치 기반 앙상블**\n",
    "- 정확도 ↑, 다양한 문맥 포착\n"
   ]
  },
  {
   "cell_type": "code",
   "execution_count": 6,
   "id": "b1ff3beb-7e2a-4891-8d26-878b93076db9",
   "metadata": {},
   "outputs": [],
   "source": [
    "# # 04. 앙상블 검색기 (EnsembleRetriever)\n",
    "# from langchain.retrievers import EnsembleRetriever\n",
    "# from langchain.retrievers import BM25Retriever\n",
    "\n",
    "# # 키워드 기반 검색기\n",
    "# bm25_retriever = BM25Retriever.from_texts(texts)\n",
    "\n",
    "# # 앙상블 (벡터 + 키워드)\n",
    "# ensemble_retriever = EnsembleRetriever(\n",
    "#     retrievers=[retriever, bm25_retriever],\n",
    "#     weights=[0.5, 0.5]\n",
    "# )\n",
    "\n",
    "# results = ensemble_retriever.invoke(\"집에서 기르는 동물\")\n",
    "# for r in results:\n",
    "#     print(r.page_content)"
   ]
  },
  {
   "cell_type": "markdown",
   "id": "42a0828e-e102-4d21-bf07-605ca209ae7b",
   "metadata": {},
   "source": [
    "### 📌 LongContextReorder\n",
    "- 긴 문서를 **순서 최적화**하여 모델 입력에 더 잘 맞도록 조정\n",
    "- 맥락 유지를 위한 재정렬 (예: 앞뒤 순서 바꿔치기)"
   ]
  },
  {
   "cell_type": "code",
   "execution_count": 7,
   "id": "fb3da2f6-ed73-421e-ace4-b62080882f65",
   "metadata": {},
   "outputs": [],
   "source": [
    "# # 05. 긴 문서 재정렬 (LongContextReorder)\n",
    "# from langchain.retrievers import LongContextReorder\n",
    "\n",
    "# reordering = LongContextReorder()\n",
    "# docs = retriever.invoke(\"동물\")  # 벡터 검색 결과\n",
    "# reordered_docs = reordering.transform_documents(docs)\n",
    "\n",
    "# for r in reordered_docs:\n",
    "#     print(r.page_content)"
   ]
  },
  {
   "cell_type": "markdown",
   "id": "aaa68b75-35d8-4e44-9f2f-3026e5ed08af",
   "metadata": {},
   "source": [
    "### 📌 ParentDocumentRetriever\n",
    "- **작은 청크로 검색** 후 → **원래 부모 문서 단위**로 반환\n",
    "- 장점: 검색은 세밀하게, 출력은 문맥 넓게"
   ]
  },
  {
   "cell_type": "code",
   "execution_count": 8,
   "id": "f09ec5f6-aa0b-4a49-b10b-f86cd4d9ac93",
   "metadata": {},
   "outputs": [],
   "source": [
    "# # 06. 부모 문서 검색기 (ParentDocumentRetriever)\n",
    "# from langchain.storage import InMemoryStore\n",
    "# from langchain.retrievers import ParentDocumentRetriever\n",
    "# from langchain.text_splitter import RecursiveCharacterTextSplitter\n",
    "\n",
    "# # 작은 chunk로 분할한 후 parent_id를 연결\n",
    "# child_splitter = RecursiveCharacterTextSplitter(chunk_size=50, chunk_overlap=0)\n",
    "# parent_splitter = RecursiveCharacterTextSplitter(chunk_size=200, chunk_overlap=0)\n",
    "\n",
    "# docstore = InMemoryStore()\n",
    "# retriever = ParentDocumentRetriever(\n",
    "#     vectorstore=FAISS.from_texts(texts, embeddings),\n",
    "#     docstore=docstore,\n",
    "#     child_splitter=child_splitter,\n",
    "#     parent_splitter=parent_splitter,\n",
    "# )\n",
    "\n",
    "# retriever.add_texts(texts)\n",
    "\n",
    "# results = retriever.invoke(\"귀여운 동물\")\n",
    "# for r in results:\n",
    "#     print(r.page_content)"
   ]
  },
  {
   "cell_type": "markdown",
   "id": "d77ee35b-cb7c-4ad9-8ea3-a1c1a0042ef1",
   "metadata": {},
   "source": [
    "### 📌 MultiQueryRetriever\n",
    "- LLM이 원 쿼리를 **다양한 표현으로 변환**\n",
    "- 예: \"반려동물\" → \"집에서 기르는 동물\", \"애완동물\"\n",
    "- Recall ↑ (더 많은 후보 검색)"
   ]
  },
  {
   "cell_type": "code",
   "execution_count": 9,
   "id": "5ec8eaf3-2211-44a8-99e7-c14e91c95439",
   "metadata": {},
   "outputs": [],
   "source": [
    "# # 07. 다중 쿼리 생성 검색기 (MultiQueryRetriever)\n",
    "# from langchain.retrievers.multi_query import MultiQueryRetriever\n",
    "\n",
    "# multi_query_retriever = MultiQueryRetriever.from_llm(\n",
    "#     retriever=retriever,\n",
    "#     llm=llm\n",
    "# )\n",
    "\n",
    "# results = multi_query_retriever.invoke(\"집에서 키우는 동물\")\n",
    "# for r in results:\n",
    "#     print(r.page_content)"
   ]
  },
  {
   "cell_type": "markdown",
   "id": "b41d11df-7945-43b4-8dd7-3e2af08dabd5",
   "metadata": {},
   "source": [
    "### 📌 MultiVectorRetriever\n",
    "- 한 문서에 대해 **여러 벡터**를 연결\n",
    "- 예: 긴 문서를 다양한 방식으로 임베딩\n",
    "- Recall ↑, 문맥 다양성 반영"
   ]
  },
  {
   "cell_type": "code",
   "execution_count": 10,
   "id": "43b98d5c-6ea1-49ee-b08a-4b1b69b7346e",
   "metadata": {},
   "outputs": [],
   "source": [
    "# # 08. 다중 벡터 검색기 (MultiVectorRetriever)\n",
    "# from langchain.retrievers.multi_vector import MultiVectorRetriever\n",
    "\n",
    "# docstore = InMemoryStore()\n",
    "# vectorstore = FAISS.from_texts(texts, embeddings)\n",
    "\n",
    "# multi_vector_retriever = MultiVectorRetriever(\n",
    "#     vectorstore=vectorstore,\n",
    "#     docstore=docstore,\n",
    "# )\n",
    "\n",
    "# multi_vector_retriever.add_texts([\"강아지는 집에서 사람과 함께 산다.\"], ids=[\"doc1\"])\n",
    "\n",
    "# results = multi_vector_retriever.invoke(\"사람과 함께 사는 동물\")\n",
    "# for r in results:\n",
    "#     print(r.page_content)"
   ]
  },
  {
   "cell_type": "markdown",
   "id": "9712a854-3bc4-4bd5-a0b7-d5c4a5b1c0cd",
   "metadata": {},
   "source": [
    "### 📌 Self-Query Retriever\n",
    "- **쿼리에서 메타데이터 필터 자동 생성**\n",
    "- LLM이 쿼리 해석 → VectorStore 필터링에 반영\n",
    "- 예: \"2021년 이후 논문\" → `{year > 2021}`"
   ]
  },
  {
   "cell_type": "code",
   "execution_count": 11,
   "id": "182ce930-e4bf-4708-8f21-f31f972beeb1",
   "metadata": {},
   "outputs": [],
   "source": [
    "# # 09. Self-Query Retriever\n",
    "# from langchain.retrievers.self_query.base import SelfQueryRetriever\n",
    "# from langchain.chains.query_constructor.schema import AttributeInfo\n",
    "# from langchain.prompts import PromptTemplate\n",
    "\n",
    "# metadata_field_info = [\n",
    "#     AttributeInfo(name=\"category\", description=\"문서의 주제\", type=\"string\"),\n",
    "# ]\n",
    "\n",
    "# retriever = SelfQueryRetriever.from_llm(\n",
    "#     llm, retriever=vectorstore.as_retriever(), metadata_field_info=metadata_field_info, document_content_description=\"동물\"\n",
    "# )\n",
    "\n",
    "# results = retriever.invoke(\"카테고리가 동물인 문서 보여줘\")\n",
    "# for r in results:\n",
    "#     print(r.page_content)"
   ]
  },
  {
   "cell_type": "markdown",
   "id": "6b5a28aa-2474-4fc3-a102-6213b9bd6457",
   "metadata": {},
   "source": [
    "### 📌 TimeWeightedVectorStoreRetriever\n",
    "- 벡터 유사도 + **시간 가중치** 함께 반영\n",
    "- 최근 정보일수록 더 높은 점수 부여\n",
    "- 파라미터:\n",
    "  - `decay_rate`: 시간에 따라 중요도 감소 속도\n",
    "  - `k`: 검색 결과 개수\n",
    "- 👉 **시간 민감한 대화/뉴스/로그 검색**에 최적"
   ]
  },
  {
   "cell_type": "code",
   "execution_count": 12,
   "id": "3259c013-6cb7-4eec-bbce-375fdfdf07fb",
   "metadata": {},
   "outputs": [],
   "source": [
    "# # 10. TimeWeightedVectorStoreRetriever\n",
    "# from datetime import datetime, timedelta\n",
    "# from langchain.retrievers import TimeWeightedVectorStoreRetriever\n",
    "\n",
    "# # 벡터스토어 + 시간가중치 기반\n",
    "# vectorstore = FAISS.from_texts([\"오늘 점심은 피자\", \"지난주에 파스타\"], embeddings)\n",
    "\n",
    "# retriever = TimeWeightedVectorStoreRetriever(\n",
    "#     vectorstore=vectorstore,\n",
    "#     embeddings=embeddings,\n",
    "#     decay_rate=0.01,   # 시간 경과 시 가중치 감소\n",
    "#     k=2\n",
    "# )\n",
    "\n",
    "# # 문서 저장 (메타데이터에 timestamp 추가)\n",
    "# retriever.add_documents([\n",
    "#     {\"page_content\": \"오늘 아침은 빵\", \"metadata\": {\"last_accessed_at\": datetime.now()}},\n",
    "#     {\"page_content\": \"어제 저녁은 치킨\", \"metadata\": {\"last_accessed_at\": datetime.now() - timedelta(days=1)}}\n",
    "# ])\n",
    "\n",
    "# results = retriever.invoke(\"식사\")\n",
    "# for r in results:\n",
    "#     print(r.page_content, r.metadata)"
   ]
  },
  {
   "cell_type": "markdown",
   "id": "0069ada3-5e62-4869-bb9c-df0115bf38db",
   "metadata": {},
   "source": [
    "# ✅ 최종 정리\n",
    "- **VectorStore Retriever**: 기본 벡터 검색\n",
    "- **ContextualCompressionRetriever**: 긴 문서 압축\n",
    "- **EnsembleRetriever**: 다중 검색기 결합\n",
    "- **LongContextReorder**: 긴 문서 순서 최적화\n",
    "- **ParentDocumentRetriever**: 검색은 작은 단위, 반환은 부모 단위\n",
    "- **MultiQueryRetriever**: 쿼리 다양화\n",
    "- **MultiVectorRetriever**: 문서 → 다중 벡터 매핑\n",
    "- **Self-QueryRetriever**: LLM 기반 메타데이터 필터링\n",
    "- **TimeWeightedRetriever**: 시간 가중치 기반 검색\n",
    "\n",
    "👉 상황에 맞는 Retriever 선택이 RAG 성능을 크게 좌우"
   ]
  },
  {
   "cell_type": "code",
   "execution_count": null,
   "id": "478f2e58-e1f3-4895-85eb-0c186ab0fae9",
   "metadata": {},
   "outputs": [],
   "source": []
  }
 ],
 "metadata": {
  "kernelspec": {
   "display_name": "Python (my_new_env)",
   "language": "python",
   "name": "my_new_env"
  },
  "language_info": {
   "codemirror_mode": {
    "name": "ipython",
    "version": 3
   },
   "file_extension": ".py",
   "mimetype": "text/x-python",
   "name": "python",
   "nbconvert_exporter": "python",
   "pygments_lexer": "ipython3",
   "version": "3.9.20"
  }
 },
 "nbformat": 4,
 "nbformat_minor": 5
}
