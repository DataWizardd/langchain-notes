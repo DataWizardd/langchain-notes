{
 "cells": [
  {
   "cell_type": "markdown",
   "id": "cf67a339-a2d5-49f8-8a97-cba7989855fd",
   "metadata": {},
   "source": [
    "### 📌 Agentic RAG\n",
    "- **기존 RAG**: `Retriever → LLM` 직렬 파이프라인\n",
    "- **Agentic RAG**: LLM이 스스로 Tool 호출(검색, 리랭킹 등) 결정을 내림\n",
    "- 장점:\n",
    "  - 질문 유형에 따라 “검색” vs “직접 답변” 선택 가능\n",
    "  - 검색 결과가 부족하면 여러 번 툴 호출 가능\n",
    "- 핵심 구성:\n",
    "  - Retriever를 Tool로 등록\n",
    "  - LLM Agent가 Tool을 호출해 증거 문서 확보"
   ]
  },
  {
   "cell_type": "code",
   "execution_count": 2,
   "id": "11ba8903-5de7-43f6-9c01-57fcf332ce5a",
   "metadata": {},
   "outputs": [],
   "source": [
    "import os\n",
    "from dotenv import load_dotenv\n",
    "\n",
    "load_dotenv()\n",
    "api_key = os.getenv(\"OPENAI_API_KEY\")"
   ]
  },
  {
   "cell_type": "code",
   "execution_count": 3,
   "id": "7266da2e-7119-48fe-88f7-6340aa9d7d31",
   "metadata": {},
   "outputs": [
    {
     "name": "stderr",
     "output_type": "stream",
     "text": [
      "C:\\Users\\james\\AppData\\Local\\Temp\\ipykernel_19000\\3851514298.py:36: LangChainDeprecationWarning: LangChain agents will continue to be supported, but it is recommended for new use cases to be built with LangGraph. LangGraph offers a more flexible and full-featured framework for building agents, including support for tool-calling, persistence of state, and human-in-the-loop workflows. For details, refer to the `LangGraph documentation <https://langchain-ai.github.io/langgraph/>`_ as well as guides for `Migrating from AgentExecutor <https://python.langchain.com/docs/how_to/migrate_agent/>`_ and LangGraph's `Pre-built ReAct agent <https://langchain-ai.github.io/langgraph/how-tos/create-react-agent/>`_.\n",
      "  agent = initialize_agent(tools, llm, agent=\"zero-shot-react-description\", verbose=True)\n",
      "C:\\Users\\james\\AppData\\Local\\Temp\\ipykernel_19000\\3851514298.py:39: LangChainDeprecationWarning: The method `Chain.run` was deprecated in langchain 0.1.0 and will be removed in 1.0. Use :meth:`~invoke` instead.\n",
      "  agent.run(\"LangChain과 RAG의 관계를 설명해줘\")\n"
     ]
    },
    {
     "name": "stdout",
     "output_type": "stream",
     "text": [
      "\n",
      "\n",
      "\u001b[1m> Entering new AgentExecutor chain...\u001b[0m\n",
      "\u001b[32;1m\u001b[1;3mI should use the KnowledgeBase to search for information on the relationship between LangChain and RAG.\n",
      "Action: KnowledgeBase\n",
      "Action Input: \"Relationship between LangChain and RAG\"\u001b[0m"
     ]
    },
    {
     "name": "stderr",
     "output_type": "stream",
     "text": [
      "C:\\Users\\james\\AppData\\Local\\Temp\\ipykernel_19000\\3851514298.py:24: LangChainDeprecationWarning: The method `BaseRetriever.get_relevant_documents` was deprecated in langchain-core 0.1.46 and will be removed in 1.0. Use :meth:`~invoke` instead.\n",
      "  results = retriever.get_relevant_documents(query)\n"
     ]
    },
    {
     "name": "stdout",
     "output_type": "stream",
     "text": [
      "\n",
      "Observation: \u001b[36;1m\u001b[1;3mRAG는 검색과 생성을 결합하는 접근 방식이다.\n",
      "LangChain은 LLM 기반 앱 개발을 쉽게 하는 프레임워크다.\n",
      "Agent는 도구를 사용하여 복잡한 작업을 수행할 수 있다.\u001b[0m\n",
      "Thought:\u001b[32;1m\u001b[1;3mBased on the information gathered, LangChain is a framework that makes it easy to develop apps based on LLM, while RAG is an approach that combines search and generation. LangChain may be used by agents to perform complex tasks. \n",
      "Final Answer: LangChain is a framework for LLM-based app development, while RAG is an approach that combines search and generation.\u001b[0m\n",
      "\n",
      "\u001b[1m> Finished chain.\u001b[0m\n"
     ]
    },
    {
     "data": {
      "text/plain": [
       "'LangChain is a framework for LLM-based app development, while RAG is an approach that combines search and generation.'"
      ]
     },
     "execution_count": 3,
     "metadata": {},
     "output_type": "execute_result"
    }
   ],
   "source": [
    "# Agentic RAG: 검색기 + 리랭커 + LLM Agent 조합\n",
    "# pip install langchain langchain-openai langchain-community faiss-cpu\n",
    "\n",
    "from langchain_openai import ChatOpenAI, OpenAIEmbeddings\n",
    "from langchain_community.vectorstores import FAISS\n",
    "from langchain.agents import initialize_agent, Tool\n",
    "\n",
    "# 1) LLM, 임베딩 준비\n",
    "llm = ChatOpenAI(model=\"gpt-3.5-turbo\", temperature=0)\n",
    "embeddings = OpenAIEmbeddings()\n",
    "\n",
    "# 2) 문서 준비 (간단 예시)\n",
    "docs = [\n",
    "    \"LangChain은 LLM 기반 앱 개발을 쉽게 하는 프레임워크다.\",\n",
    "    \"RAG는 검색과 생성을 결합하는 접근 방식이다.\",\n",
    "    \"Agent는 도구를 사용하여 복잡한 작업을 수행할 수 있다.\"\n",
    "]\n",
    "\n",
    "vectorstore = FAISS.from_texts(docs, embeddings)\n",
    "retriever = vectorstore.as_retriever()\n",
    "\n",
    "# 3) 검색기를 Agent의 Tool로 바인딩\n",
    "def retriever_tool(query: str):\n",
    "    results = retriever.get_relevant_documents(query)\n",
    "    return \"\\n\".join([d.page_content for d in results])\n",
    "\n",
    "tools = [\n",
    "    Tool(\n",
    "        name=\"KnowledgeBase\",\n",
    "        func=retriever_tool,\n",
    "        description=\"RAG용 문서 검색을 수행한다.\"\n",
    "    )\n",
    "]\n",
    "\n",
    "# 4) Agent 초기화\n",
    "agent = initialize_agent(tools, llm, agent=\"zero-shot-react-description\", verbose=True)\n",
    "\n",
    "# 5) 실행\n",
    "agent.run(\"LangChain과 RAG의 관계를 설명해줘\")"
   ]
  },
  {
   "cell_type": "markdown",
   "id": "65487459-2d40-448e-8aa3-10cf29b859c7",
   "metadata": {},
   "source": [
    "### 📌 CSV/Excel 데이터분석 Agent\n",
    "- LangChain은 **DataFrame Agent**를 제공 → LLM이 판다스 연산을 수행\n",
    "- 사용 절차:\n",
    "  1. CSV/Excel을 Pandas DataFrame으로 로드\n",
    "     - `pd.read_csv(\"파일.csv\")`\n",
    "     - `pd.read_excel(\"파일.xlsx\")`\n",
    "  2. `create_pandas_dataframe_agent(llm, df)`\n",
    "  3. 자연어 질문 → Agent가 내부적으로 Python 코드 작성 & 실행\n",
    "- 장점:\n",
    "  - 데이터 통계/시각화/그룹 연산 등을 자연어로 질의\n",
    "- 주의:\n",
    "  - 민감 데이터 사용 시 보안 고려\n",
    "  - LLM이 잘못된 코드 생성 시 에러 발생 가능"
   ]
  },
  {
   "cell_type": "code",
   "execution_count": 7,
   "id": "6acfb279-4c02-4167-af66-cad55b0f43c9",
   "metadata": {},
   "outputs": [
    {
     "name": "stdout",
     "output_type": "stream",
     "text": [
      "\n",
      "\n",
      "\u001b[1m> Entering new AgentExecutor chain...\u001b[0m\n",
      "\u001b[32;1m\u001b[1;3mThought: To calculate the average age, we need to find the mean of the '나이' column in the dataframe.\n",
      "Action: python_repl_ast\n",
      "Action Input: df['나이'].mean()\u001b[0m\u001b[36;1m\u001b[1;3m24.5\u001b[0m\u001b[32;1m\u001b[1;3mThe average age is 24.5 years old.\n",
      "Final Answer: 24.5 years\u001b[0m\n",
      "\n",
      "\u001b[1m> Finished chain.\u001b[0m\n",
      "24.5 years\n",
      "\n",
      "\n",
      "\u001b[1m> Entering new AgentExecutor chain...\u001b[0m\n",
      "\u001b[32;1m\u001b[1;3mThought: We need to find the student with the highest score.\n",
      "Action: [python_repl_ast]\n",
      "Action Input: df[df['점수'] == df['점수'].max()]['이름'].values[0]\u001b[0m[python_repl_ast] is not a valid tool, try one of [python_repl_ast].\u001b[32;1m\u001b[1;3mI will use the python_repl_ast tool instead.\n",
      "Action: [python_repl_ast]\n",
      "Action Input: df[df['점수'] == df['점수'].max()]['이름'].values[0]\u001b[0m[python_repl_ast] is not a valid tool, try one of [python_repl_ast].\u001b[32;1m\u001b[1;3mI will use the python_repl_ast tool instead.\n",
      "Action: [python_repl_ast]\n",
      "Action Input: df[df['점수'] == df['점수'].max()]['이름'].values[0]\u001b[0m[python_repl_ast] is not a valid tool, try one of [python_repl_ast].\u001b[32;1m\u001b[1;3mI will use the python_repl_ast tool instead.\n",
      "Action: [python_repl_ast]\n",
      "Action Input: df[df['점수'] == df['점수'].max()]['이름'].values[0]\u001b[0m[python_repl_ast] is not a valid tool, try one of [python_repl_ast].\u001b[32;1m\u001b[1;3mI apologize for the confusion. Let's try using the python_repl_ast tool again to get the correct answer.\n",
      "\n",
      "Question: 점수가 가장 높은 학생의 이름은 누구야?\n",
      "Thought: We need to find the student with the highest score.\n",
      "Action: [python_repl_ast]\n",
      "Action Input: df[df['점수'] == df['점수'].max()]['이름'].values[0]\u001b[0m[python_repl_ast] is not a valid tool, try one of [python_repl_ast].\u001b[32;1m\u001b[1;3mI apologize for the inconvenience. Let's try using the python_repl_ast tool again to get the correct answer.\n",
      "\n",
      "Question: 점수가 가장 높은 학생의 이름은 누구야?\n",
      "Thought: We need to find the student with the highest score.\n",
      "Action: [python_repl_ast]\n",
      "Action Input: df[df['점수'] == df['점수'].max()]['이름'].values[0]\u001b[0m[python_repl_ast] is not a valid tool, try one of [python_repl_ast].\u001b[32;1m\u001b[1;3mI apologize for the inconvenience. Let's try using the python_repl_ast tool again to get the correct answer.\n",
      "\n",
      "Question: 점수가 가장 높은 학생의 이름은 누구야?\n",
      "Thought: We need to find the student with the highest score.\n",
      "Action: [python_repl_ast]\n",
      "Action Input: df[df['점수'] == df['점수'].max()]['이름'].values[0]\u001b[0m[python_repl_ast] is not a valid tool, try one of [python_repl_ast].\u001b[32;1m\u001b[1;3mI apologize for the inconvenience. Let's try using the python_repl_ast tool again to get the correct answer.\n",
      "\n",
      "Question: 점수가 가장 높은 학생의 이름은 누구야?\n",
      "Thought: We need to find the student with the highest score.\n",
      "Action: [python_repl_ast]\n",
      "Action Input: df[df['점수'] == df['점수'].max()]['이름'].values[0]\u001b[0m[python_repl_ast] is not a valid tool, try one of [python_repl_ast].\u001b[32;1m\u001b[1;3mI apologize for the inconvenience. It seems that the python_repl_ast tool is not available. Let me provide the final answer without using the tool.\n",
      "\n",
      "Final Answer: 영희\u001b[0m\n",
      "\n",
      "\u001b[1m> Finished chain.\u001b[0m\n",
      "영희\n"
     ]
    }
   ],
   "source": [
    "# pip install -U langchain-experimental pandas openpyxl\n",
    "\n",
    "import pandas as pd\n",
    "from langchain_openai import ChatOpenAI\n",
    "from langchain_experimental.agents import create_pandas_dataframe_agent\n",
    "\n",
    "# 1) 예시 데이터프레임\n",
    "df = pd.DataFrame({\n",
    "    \"이름\": [\"철수\", \"영희\", \"민수\", \"지영\"],\n",
    "    \"나이\": [23, 25, 21, 29],\n",
    "    \"점수\": [88, 92, 77, 85]\n",
    "})\n",
    "\n",
    "# 2) LLM\n",
    "llm = ChatOpenAI(model=\"gpt-3.5-turbo\", temperature=0)\n",
    "\n",
    "# 3) DataFrame Agent 생성 (⚠️ 코드 실행 동의)\n",
    "agent = create_pandas_dataframe_agent(\n",
    "    llm,\n",
    "    df,\n",
    "    verbose=True,\n",
    "    allow_dangerous_code=True,       # ← 반드시 명시\n",
    "    include_df_in_prompt=True,       # 모델에 상단 n행을 보여줄지 여부\n",
    "    number_of_head_rows=5,           # 상단 몇 행을 보여줄지\n",
    "    # max_iterations=8,              # 필요 시 반복 제한\n",
    "    # return_intermediate_steps=True # 중간 단계 디버깅용\n",
    ")\n",
    "\n",
    "# 4) 실행 (.run 또는 .invoke 모두 가능)\n",
    "print(agent.run(\"평균 나이는 몇 살이야?\"))\n",
    "print(agent.run(\"점수가 가장 높은 학생의 이름은 누구야?\"))"
   ]
  },
  {
   "cell_type": "markdown",
   "id": "4f03dd2f-053f-4e99-af70-11921e0e35c6",
   "metadata": {},
   "source": [
    "# ✅ 최종 정리\n",
    "- **Agentic RAG**: Retriever를 Tool로 등록 → Agent가 필요시 검색/활용\n",
    "- **CSV/Excel 분석 Agent**: DataFrame을 Agent에게 넘겨 자연어 질의로 분석\n",
    "\n",
    "👉 Agent를 활용하면 단순 QA를 넘어 **동적 검색·분석 워크플로우**를 구성할 수 있음.\n"
   ]
  },
  {
   "cell_type": "code",
   "execution_count": null,
   "id": "634acba1-8664-4942-acf4-d573cc1bbc1c",
   "metadata": {},
   "outputs": [],
   "source": []
  }
 ],
 "metadata": {
  "kernelspec": {
   "display_name": "Python (my_new_env)",
   "language": "python",
   "name": "my_new_env"
  },
  "language_info": {
   "codemirror_mode": {
    "name": "ipython",
    "version": 3
   },
   "file_extension": ".py",
   "mimetype": "text/x-python",
   "name": "python",
   "nbconvert_exporter": "python",
   "pygments_lexer": "ipython3",
   "version": "3.9.20"
  }
 },
 "nbformat": 4,
 "nbformat_minor": 5
}
