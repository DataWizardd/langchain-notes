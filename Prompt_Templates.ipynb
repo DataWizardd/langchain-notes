{
 "cells": [
  {
   "cell_type": "markdown",
   "id": "bf3c172d-c4cb-4d3b-ae10-1b69f55b0e8d",
   "metadata": {},
   "source": [
    "# 📘  프롬프트\n",
    "\n",
    "---\n",
    "\n",
    "## 01. PromptTemplate, 부분변수(partial_variables)\n",
    "\n",
    "### 📌 개념\n",
    "- **PromptTemplate** : 입력값을 템플릿에 대입해서 프롬프트를 생성  \n",
    "- **partial_variables** : 일부 변수를 미리 고정시켜 두고 나머지만 실행 시점에 채움  \n",
    "\n"
   ]
  },
  {
   "cell_type": "code",
   "execution_count": 1,
   "id": "f991c021-244e-4fc3-9446-acf2fc4a5506",
   "metadata": {},
   "outputs": [
    {
     "name": "stdout",
     "output_type": "stream",
     "text": [
      "오늘 LangChain에 대해 설명 해줘.\n",
      "오늘 프롬프트 엔지니어링에 대해 요약 해줘.\n"
     ]
    }
   ],
   "source": [
    "### 💻 예시 코드\n",
    "from langchain.prompts import PromptTemplate\n",
    "\n",
    "template = PromptTemplate.from_template(\"오늘 {subject}에 대해 {action} 해줘.\")\n",
    "\n",
    "# 일반 사용\n",
    "print(template.format(subject=\"LangChain\", action=\"설명\"))\n",
    "\n",
    "# partial_variables 사용\n",
    "partial_template = PromptTemplate.from_template(\n",
    "    \"오늘 {subject}에 대해 {action} 해줘.\",\n",
    "    partial_variables={\"action\": \"요약\"}\n",
    ")\n",
    "print(partial_template.format(subject=\"프롬프트 엔지니어링\"))"
   ]
  },
  {
   "cell_type": "markdown",
   "id": "396ff1b6-8463-43f6-a697-d1cdd1e33d48",
   "metadata": {},
   "source": [
    "## 02. yaml 파일로부터 프롬프트 템플릿 로드(load_prompt) \n",
    "### 📌 개념\n",
    "\n",
    "- YAML 파일에 프롬프트 템플릿 정의 후 불러오기 가능\n",
    "\n",
    "- 협업 시 프롬프트 관리 및 버전 관리에 유용"
   ]
  },
  {
   "cell_type": "code",
   "execution_count": 4,
   "id": "f1e654e3-7ed1-4526-96de-5bde1ac4d618",
   "metadata": {},
   "outputs": [],
   "source": [
    "# from langchain.prompts import load_prompt\n",
    "\n",
    "# \"\"\"\n",
    "# _type: prompt\n",
    "# input_variables:\n",
    "#   [\"product\"]\n",
    "# template: \"Write a creative ad for the following product: {product}.\"\n",
    "# \"\"\"\n",
    "\n",
    "# prompt = load_prompt(\"prompt.yaml\")\n",
    "# print(prompt.format(product=\"스마트워치\"))"
   ]
  },
  {
   "cell_type": "markdown",
   "id": "41dd0ea2-a5e7-43ea-8e20-3d8b338164df",
   "metadata": {},
   "source": [
    "## 03. ChatPromptTemplate\n",
    "### 📌 개념\n",
    "\n",
    "- 대화형 프롬프트를 구성할 때 사용\n",
    "\n",
    "- SystemMessage, HumanMessage, AIMessage 등을 조합"
   ]
  },
  {
   "cell_type": "code",
   "execution_count": 5,
   "id": "4f7b6207-e488-4622-bce2-678311f4381d",
   "metadata": {},
   "outputs": [
    {
     "name": "stdout",
     "output_type": "stream",
     "text": [
      "[SystemMessage(content='당신은 유용한 번역 도우미입니다.', additional_kwargs={}, response_metadata={}), HumanMessage(content='Good morning을 한국어로 번역해줘.', additional_kwargs={}, response_metadata={})]\n"
     ]
    }
   ],
   "source": [
    "from langchain.prompts import ChatPromptTemplate\n",
    "\n",
    "chat_prompt = ChatPromptTemplate.from_messages([\n",
    "    (\"system\", \"당신은 유용한 번역 도우미입니다.\"),\n",
    "    (\"human\", \"{text}을 한국어로 번역해줘.\")\n",
    "])\n",
    "\n",
    "print(chat_prompt.format_messages(text=\"Good morning\"))"
   ]
  },
  {
   "cell_type": "markdown",
   "id": "d88317a8-26a0-43ad-b0e0-ada6f0203bee",
   "metadata": {},
   "source": [
    "## 04. MessagesPlaceHolder \n",
    "### 📌 개념\n",
    "\n",
    "- 대화 히스토리를 그대로 프롬프트에 삽입할 때 사용\n",
    "\n",
    "- ChatPromptTemplate과 함께 쓰임"
   ]
  },
  {
   "cell_type": "code",
   "execution_count": 6,
   "id": "df8866b1-45c3-456f-a0b8-2b42448c0213",
   "metadata": {},
   "outputs": [
    {
     "name": "stdout",
     "output_type": "stream",
     "text": [
      "[SystemMessage(content='너는 친절한 어시스턴트야.', additional_kwargs={}, response_metadata={}), HumanMessage(content='안녕!', additional_kwargs={}, response_metadata={}), AIMessage(content='안녕하세요 :)', additional_kwargs={}, response_metadata={}), HumanMessage(content='오늘 날씨 어때?', additional_kwargs={}, response_metadata={})]\n"
     ]
    }
   ],
   "source": [
    "from langchain.prompts import ChatPromptTemplate, MessagesPlaceholder\n",
    "\n",
    "prompt = ChatPromptTemplate.from_messages([\n",
    "    (\"system\", \"너는 친절한 어시스턴트야.\"),\n",
    "    MessagesPlaceholder(variable_name=\"history\"),\n",
    "    (\"human\", \"{input}\")\n",
    "])\n",
    "\n",
    "print(prompt.format_messages(\n",
    "    history=[(\"human\", \"안녕!\"), (\"ai\", \"안녕하세요 :)\")],\n",
    "    input=\"오늘 날씨 어때?\"\n",
    "))"
   ]
  },
  {
   "cell_type": "markdown",
   "id": "fe824554-6298-407b-bc13-19ff840ff8a4",
   "metadata": {},
   "source": [
    "## 05. 퓨샷프롬프트(FewShotPromptTemplate) \n",
    "### 📌 개념\n",
    "\n",
    "- Few-shot learning : 프롬프트에 예시를 함께 제공해 성능 향상\n",
    "\n",
    "- 여러 input/output 예시를 넣어서 모델 가이딩"
   ]
  },
  {
   "cell_type": "code",
   "execution_count": 7,
   "id": "313cd5b8-f8cf-47fe-bff8-e2e5a25539a2",
   "metadata": {},
   "outputs": [
    {
     "name": "stdout",
     "output_type": "stream",
     "text": [
      "단어: happy\n",
      "동의어: joyful\n",
      "\n",
      "\n",
      "단어: sad\n",
      "동의어: unhappy\n",
      "\n",
      "\n",
      "단어: fast\n",
      "동의어:\n"
     ]
    }
   ],
   "source": [
    "from langchain.prompts import FewShotPromptTemplate, PromptTemplate\n",
    "\n",
    "examples = [\n",
    "    {\"word\": \"happy\", \"synonym\": \"joyful\"},\n",
    "    {\"word\": \"sad\", \"synonym\": \"unhappy\"}\n",
    "]\n",
    "\n",
    "example_prompt = PromptTemplate(\n",
    "    input_variables=[\"word\", \"synonym\"],\n",
    "    template=\"단어: {word}\\n동의어: {synonym}\\n\"\n",
    ")\n",
    "\n",
    "few_shot_prompt = FewShotPromptTemplate(\n",
    "    examples=examples,\n",
    "    example_prompt=example_prompt,\n",
    "    suffix=\"단어: {word}\\n동의어:\",\n",
    "    input_variables=[\"word\"]\n",
    ")\n",
    "\n",
    "print(few_shot_prompt.format(word=\"fast\"))"
   ]
  },
  {
   "cell_type": "markdown",
   "id": "a8b572e9-bf89-4a29-beae-d2c15c3221a7",
   "metadata": {},
   "source": [
    "## 06. 예제 선택기(Example Selector) \n",
    "### 📌 개념\n",
    "\n",
    "- 제공된 예시 중 일부만 선택해서 few-shot에 삽입\n",
    "\n",
    "- 데이터셋이 클 때 유용"
   ]
  },
  {
   "cell_type": "code",
   "execution_count": 8,
   "id": "e3c2ab7b-cac3-4207-9ac8-eaafb02fd298",
   "metadata": {},
   "outputs": [
    {
     "name": "stdout",
     "output_type": "stream",
     "text": [
      "[{'word': 'happy', 'synonym': 'joyful'}, {'word': 'sad', 'synonym': 'unhappy'}, {'word': 'angry', 'synonym': 'mad'}]\n"
     ]
    }
   ],
   "source": [
    "from langchain.prompts.example_selector import LengthBasedExampleSelector\n",
    "\n",
    "examples = [\n",
    "    {\"word\": \"happy\", \"synonym\": \"joyful\"},\n",
    "    {\"word\": \"sad\", \"synonym\": \"unhappy\"},\n",
    "    {\"word\": \"angry\", \"synonym\": \"mad\"},\n",
    "]\n",
    "\n",
    "example_prompt = PromptTemplate(\n",
    "    input_variables=[\"word\", \"synonym\"],\n",
    "    template=\"단어: {word}\\n동의어: {synonym}\\n\"\n",
    ")\n",
    "\n",
    "selector = LengthBasedExampleSelector(\n",
    "    examples=examples,\n",
    "    example_prompt=example_prompt,\n",
    "    max_length=25\n",
    ")\n",
    "\n",
    "print(selector.select_examples({\"word\": \"excited\"}))"
   ]
  },
  {
   "cell_type": "markdown",
   "id": "a5f9e953-496f-4099-9eab-6dacd30dbc21",
   "metadata": {},
   "source": [
    "## 07. MaxMarginalRelevance(MMR) 알고리즘 \n",
    "### 📌 개념\n",
    "\n",
    "- 예제 선택 시 다양성과 관련성을 동시에 고려\n",
    "\n",
    "- 비슷한 예시만 선택되는 것을 방지"
   ]
  },
  {
   "cell_type": "code",
   "execution_count": 10,
   "id": "22a7d092-033b-4d02-9d03-f3f9e7168ca5",
   "metadata": {},
   "outputs": [],
   "source": [
    "# from langchain.prompts.example_selector import MaxMarginalRelevanceExampleSelector\n",
    "\n",
    "# selector = MaxMarginalRelevanceExampleSelector.from_examples(\n",
    "#     examples,\n",
    "#     example_prompt,\n",
    "#     vectorizer=lambda x: [ord(c) for c in x[\"word\"]],  # 단순 벡터화 예시\n",
    "#     k=2\n",
    "# )\n",
    "\n",
    "# print(selector.select_examples({\"word\": \"joy\"}))"
   ]
  },
  {
   "cell_type": "markdown",
   "id": "82efb9d0-e59c-4e6b-9cea-e0506b97178d",
   "metadata": {},
   "source": [
    "## 08. FewShotChatMessagePromptTemplate \n",
    "### 📌 개념\n",
    "\n",
    "- ChatPromptTemplate + FewShotPromptTemplate 결합\n",
    "\n",
    "- 대화 맥락에서도 few-shot 제공 가능"
   ]
  },
  {
   "cell_type": "code",
   "execution_count": 12,
   "id": "f6660ae1-816e-4167-a756-b7912e842412",
   "metadata": {},
   "outputs": [],
   "source": [
    "# from langchain.prompts import FewShotChatMessagePromptTemplate\n",
    "\n",
    "# examples = [\n",
    "#     {\"input\": \"2+2\", \"output\": \"4\"},\n",
    "#     {\"input\": \"3*3\", \"output\": \"9\"}\n",
    "# ]\n",
    "\n",
    "# example_prompt = ChatPromptTemplate.from_messages([\n",
    "#     (\"human\", \"{input}\"),\n",
    "#     (\"ai\", \"{output}\")\n",
    "# ])\n",
    "\n",
    "# few_shot_chat_prompt = FewShotChatMessagePromptTemplate(\n",
    "#     examples=examples,\n",
    "#     example_prompt=example_prompt,\n",
    "#     suffix=[(\"human\", \"{input}\")],\n",
    "#     input_variables=[\"input\"]\n",
    "# )\n",
    "\n",
    "# print(few_shot_chat_prompt.format_messages(input=\"5-2\"))"
   ]
  },
  {
   "cell_type": "markdown",
   "id": "9387e9cb-b0d3-4307-b6e4-272c9bf19ab8",
   "metadata": {},
   "source": [
    "## 09. 목적에 맞는 예제 선택기(CustomExampleSelector) \n",
    "### 📌 개념\n",
    "\n",
    "- ExampleSelector를 상속받아 원하는 규칙 기반 선택 가능"
   ]
  },
  {
   "cell_type": "code",
   "execution_count": 14,
   "id": "1ff7acc2-2d37-4858-a5e4-7fb1b9bc34da",
   "metadata": {},
   "outputs": [],
   "source": [
    "# from langchain.prompts.example_selector.base import BaseExampleSelector\n",
    "\n",
    "# class CustomSelector(BaseExampleSelector):\n",
    "#     def __init__(self, examples):\n",
    "#         self.examples = examples\n",
    "    \n",
    "#     def select_examples(self, input_variables):\n",
    "#         # 단순히 \"첫 번째 예시만\" 반환\n",
    "#         return [self.examples[0]]\n",
    "\n",
    "# examples = [\n",
    "#     {\"word\": \"happy\", \"synonym\": \"joyful\"},\n",
    "#     {\"word\": \"sad\", \"synonym\": \"unhappy\"}\n",
    "# ]\n",
    "\n",
    "# selector = CustomSelector(examples)\n",
    "# print(selector.select_examples({\"word\": \"fast\"}))"
   ]
  },
  {
   "cell_type": "markdown",
   "id": "3fb1744d-c129-465a-8079-f6fba234aa8d",
   "metadata": {},
   "source": [
    "## 10. 프롬프트 허브(LangChain Hub)\n",
    "### 📌 개념\n",
    "\n",
    "- LangChain에서 제공하는 공식 프롬프트 저장소\n",
    "\n",
    "- 미리 정의된 고품질 프롬프트 불러와 사용 가능"
   ]
  },
  {
   "cell_type": "code",
   "execution_count": 15,
   "id": "5da7b075-c8ac-4b48-b1ae-07e4274a5899",
   "metadata": {},
   "outputs": [
    {
     "name": "stdout",
     "output_type": "stream",
     "text": [
      "input_variables=['agent_scratchpad', 'input', 'tool_names', 'tools'] input_types={} partial_variables={} metadata={'lc_hub_owner': 'hwchase17', 'lc_hub_repo': 'react', 'lc_hub_commit_hash': 'd15fe3c426f1c4b3f37c9198853e4a86e20c425ca7f4752ec0c9b0e97ca7ea4d'} template='Answer the following questions as best you can. You have access to the following tools:\\n\\n{tools}\\n\\nUse the following format:\\n\\nQuestion: the input question you must answer\\nThought: you should always think about what to do\\nAction: the action to take, should be one of [{tool_names}]\\nAction Input: the input to the action\\nObservation: the result of the action\\n... (this Thought/Action/Action Input/Observation can repeat N times)\\nThought: I now know the final answer\\nFinal Answer: the final answer to the original input question\\n\\nBegin!\\n\\nQuestion: {input}\\nThought:{agent_scratchpad}'\n"
     ]
    }
   ],
   "source": [
    "from langchain import hub\n",
    "\n",
    "# 불러오기 (예: \"hwchase17/react\")\n",
    "prompt = hub.pull(\"hwchase17/react\")\n",
    "\n",
    "print(prompt)"
   ]
  },
  {
   "cell_type": "markdown",
   "id": "c604bd33-4fee-445b-b9fa-956013f38128",
   "metadata": {},
   "source": [
    "## ✅ 정리\n",
    "\n",
    "- PromptTemplate : 기본 프롬프트 템플릿\n",
    "\n",
    "- partial_variables : 변수를 일부 고정\n",
    "\n",
    "- ChatPromptTemplate, MessagesPlaceholder : 대화형 프롬프트\n",
    "\n",
    "- FewShotPromptTemplate, Example Selector : few-shot 학습 지원\n",
    "\n",
    "- MMR : 다양성과 관련성 동시 고려\n",
    "\n",
    "- LangChain Hub : 공개 프롬프트 활용"
   ]
  },
  {
   "cell_type": "code",
   "execution_count": null,
   "id": "974ef62c-cde3-4156-a33f-1e3f0636ab13",
   "metadata": {},
   "outputs": [],
   "source": []
  }
 ],
 "metadata": {
  "kernelspec": {
   "display_name": "Python (my_new_env)",
   "language": "python",
   "name": "my_new_env"
  },
  "language_info": {
   "codemirror_mode": {
    "name": "ipython",
    "version": 3
   },
   "file_extension": ".py",
   "mimetype": "text/x-python",
   "name": "python",
   "nbconvert_exporter": "python",
   "pygments_lexer": "ipython3",
   "version": "3.9.20"
  }
 },
 "nbformat": 4,
 "nbformat_minor": 5
}
