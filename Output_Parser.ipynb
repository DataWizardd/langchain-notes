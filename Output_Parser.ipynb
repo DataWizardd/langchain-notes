{
 "cells": [
  {
   "cell_type": "markdown",
   "id": "71228175-59ce-4a82-a960-91a640674161",
   "metadata": {},
   "source": [
    "# 📘 출력 파서(Output Parser)\n",
    "\n",
    "---\n",
    "\n",
    "## 01. 출력파서(Output Parser)\n",
    "\n",
    "### 📌 개념\n",
    "- LLM 출력은 보통 자유 텍스트 → 그대로 쓰기 어려움\n",
    "- **OutputParser** : LLM 출력 → 구조화된 데이터(문자열, JSON, 리스트 등) 변환\n",
    "- 장점:\n",
    "  - 다운스트림 로직과 쉽게 연결\n",
    "  - 안정적인 파싱 (에러 줄임)"
   ]
  },
  {
   "cell_type": "code",
   "execution_count": 2,
   "id": "51398e62-9783-4909-9e83-52b10d481b4a",
   "metadata": {},
   "outputs": [
    {
     "name": "stdout",
     "output_type": "stream",
     "text": [
      "sk-proj-73\n"
     ]
    }
   ],
   "source": [
    "### 💻 예시 코드\n",
    "import os\n",
    "from dotenv import load_dotenv\n",
    "\n",
    "load_dotenv()\n",
    "api_key = os.getenv(\"OPENAI_API_KEY\")\n",
    "print(api_key[:10]) "
   ]
  },
  {
   "cell_type": "code",
   "execution_count": 3,
   "id": "413f0e83-b398-4446-95f3-34dee2f1cd52",
   "metadata": {},
   "outputs": [
    {
     "name": "stdout",
     "output_type": "stream",
     "text": [
      "LangChain is a decentralized language learning platform that uses blockchain technology to connect language learners with native speakers for personalized lessons.\n"
     ]
    }
   ],
   "source": [
    "from langchain.schema import StrOutputParser\n",
    "from langchain_openai import ChatOpenAI\n",
    "\n",
    "llm = ChatOpenAI(model=\"gpt-3.5-turbo\", temperature=0)\n",
    "\n",
    "parser = StrOutputParser()\n",
    "\n",
    "chain = llm | parser\n",
    "print(chain.invoke(\"Answer in one sentence: What is LangChain?\"))"
   ]
  },
  {
   "cell_type": "markdown",
   "id": "09afbe7c-bcc0-4c55-861a-37d8b5c26ddc",
   "metadata": {},
   "source": [
    "## 02. PydanticOutputParser\n",
    "### 📌 개념\n",
    "\n",
    "- Pydantic 모델을 기반으로 LLM 출력 파싱\n",
    "\n",
    "- 데이터 유효성 검사 자동 수행"
   ]
  },
  {
   "cell_type": "code",
   "execution_count": 4,
   "id": "1bbbaf3c-dfc3-452c-989c-60565e5efa81",
   "metadata": {},
   "outputs": [
    {
     "name": "stdout",
     "output_type": "stream",
     "text": [
      "name='철수' age=25\n"
     ]
    }
   ],
   "source": [
    "from langchain.output_parsers import PydanticOutputParser\n",
    "from pydantic import BaseModel, Field\n",
    "from langchain.prompts import PromptTemplate\n",
    "\n",
    "# 데이터 스키마 정의\n",
    "class Person(BaseModel):\n",
    "    name: str = Field(description=\"사람 이름\")\n",
    "    age: int = Field(description=\"나이\")\n",
    "\n",
    "parser = PydanticOutputParser(pydantic_object=Person)\n",
    "\n",
    "prompt = PromptTemplate(\n",
    "    template=\"다음 정보를 JSON으로 작성해줘:\\n이름: {name}\\n나이: {age}\\n{format_instructions}\",\n",
    "    input_variables=[\"name\", \"age\"],\n",
    "    partial_variables={\"format_instructions\": parser.get_format_instructions()},\n",
    ")\n",
    "\n",
    "chain = prompt | llm | parser\n",
    "print(chain.invoke({\"name\": \"철수\", \"age\": \"25\"}))"
   ]
  },
  {
   "cell_type": "markdown",
   "id": "36a4f9c9-fbec-4389-8a65-8f65df11da26",
   "metadata": {},
   "source": [
    "## 03. with_structured_output() 바인딩\n",
    "### 📌 개념\n",
    "\n",
    "- LLM을 직접 Pydantic 모델에 바인딩\n",
    "\n",
    "- 별도의 파서 연결 필요 없음"
   ]
  },
  {
   "cell_type": "code",
   "execution_count": 5,
   "id": "6ad9ddda-8dba-444e-ba87-cd88fb39fab1",
   "metadata": {},
   "outputs": [
    {
     "name": "stderr",
     "output_type": "stream",
     "text": [
      "C:\\Users\\james\\anaconda3\\envs\\my_new_env\\lib\\site-packages\\langchain_openai\\chat_models\\base.py:1927: UserWarning: Cannot use method='json_schema' with model gpt-3.5-turbo since it doesn't support OpenAI's Structured Output API. You can see supported models here: https://platform.openai.com/docs/guides/structured-outputs#supported-models. To fix this warning, set `method='function_calling'. Overriding to method='function_calling'.\n",
      "  warnings.warn(\n"
     ]
    },
    {
     "name": "stdout",
     "output_type": "stream",
     "text": [
      "name='영희' age=30\n"
     ]
    }
   ],
   "source": [
    "llm_structured = llm.with_structured_output(Person)\n",
    "print(llm_structured.invoke(\"이름은 영희이고 나이는 30살인 사람의 JSON을 만들어줘\"))"
   ]
  },
  {
   "cell_type": "markdown",
   "id": "563cd624-c650-4bc8-abc8-d12d9778bb2a",
   "metadata": {},
   "source": [
    "## 04. LangSmith 에서 OutputParser 흐름 확인\n",
    "### 📌 개념\n",
    "\n",
    "- LangSmith 대시보드에서 체인 실행 과정 추적\n",
    "\n",
    "- LLM → OutputParser로 변환되는 과정 시각화"
   ]
  },
  {
   "cell_type": "markdown",
   "id": "de76dfc0-c7a2-44c1-bb29-3410248e6e6f",
   "metadata": {},
   "source": [
    "## 05. 콤마로 구분된 리스트 출력파서 (CommaSeparatedListOutputParser)\n",
    "### 📌 개념\n",
    "\n",
    "- 문자열을 리스트로 변환\n",
    "\n",
    "- 예: \"사과, 배, 포도\" → [\"사과\", \"배\", \"포도\"]"
   ]
  },
  {
   "cell_type": "code",
   "execution_count": 6,
   "id": "1d6c4d12-f318-4f30-bb53-fc561f621ac7",
   "metadata": {},
   "outputs": [
    {
     "name": "stdout",
     "output_type": "stream",
     "text": [
      "['사과', '바나나', '오렌지']\n"
     ]
    }
   ],
   "source": [
    "from langchain.output_parsers import CommaSeparatedListOutputParser\n",
    "\n",
    "parser = CommaSeparatedListOutputParser()\n",
    "\n",
    "prompt = PromptTemplate.from_template(\"과일을 3개 나열해줘. {format_instructions}\")\n",
    "chain = prompt.partial(format_instructions=parser.get_format_instructions()) | llm | parser\n",
    "\n",
    "print(chain.invoke({}))"
   ]
  },
  {
   "cell_type": "markdown",
   "id": "bf9dc58a-2009-404a-95a2-adb896202e7c",
   "metadata": {},
   "source": [
    "## 06. 구조화된 출력파서(StructuredOutputParser)\n",
    "### 📌 개념\n",
    "\n",
    "- JSON Schema 기반 구조화된 출력 생성\n",
    "\n",
    "- 키:값 형태 데이터 추출에 적합"
   ]
  },
  {
   "cell_type": "code",
   "execution_count": 7,
   "id": "af7503db-437c-4a1d-925b-379e6b20e92e",
   "metadata": {},
   "outputs": [
    {
     "name": "stdout",
     "output_type": "stream",
     "text": [
      "{'name': '영희', 'hobby': '독서'}\n"
     ]
    }
   ],
   "source": [
    "from langchain.output_parsers import StructuredOutputParser, ResponseSchema\n",
    "\n",
    "schemas = [\n",
    "    ResponseSchema(name=\"name\", description=\"이름\"),\n",
    "    ResponseSchema(name=\"hobby\", description=\"취미\")\n",
    "]\n",
    "\n",
    "parser = StructuredOutputParser.from_response_schemas(schemas)\n",
    "\n",
    "prompt = PromptTemplate(\n",
    "    template=\"사람의 이름과 취미를 알려줘.\\n{format_instructions}\",\n",
    "    input_variables=[],\n",
    "    partial_variables={\"format_instructions\": parser.get_format_instructions()}\n",
    ")\n",
    "\n",
    "chain = prompt | llm | parser\n",
    "print(chain.invoke({}))"
   ]
  },
  {
   "cell_type": "markdown",
   "id": "1262b138-51ea-41d2-8303-a38677a0df8f",
   "metadata": {},
   "source": [
    "## 07. JSON 형식 출력파서 (JsonOutputParser)\n",
    "### 📌 개념\n",
    "\n",
    "- LLM 출력 → JSON으로 파싱"
   ]
  },
  {
   "cell_type": "code",
   "execution_count": 11,
   "id": "2fda08a1-df8b-424a-ab58-24ce1ed83375",
   "metadata": {},
   "outputs": [
    {
     "name": "stdout",
     "output_type": "stream",
     "text": [
      "{'title': 'The Great Gatsby', 'author': 'F. Scott Fitzgerald'}\n"
     ]
    }
   ],
   "source": [
    "from langchain_core.output_parsers import JsonOutputParser\n",
    "from langchain.prompts import PromptTemplate\n",
    "from langchain_openai import ChatOpenAI\n",
    "\n",
    "llm = ChatOpenAI(model=\"gpt-3.5-turbo\", temperature=0)\n",
    "\n",
    "parser = JsonOutputParser()\n",
    "\n",
    "prompt = PromptTemplate.from_template(\n",
    "    \"책 1권의 제목과 저자를 JSON으로 제공해줘.\\n{format_instructions}\"\n",
    ")\n",
    "\n",
    "chain = prompt.partial(format_instructions=parser.get_format_instructions()) | llm | parser\n",
    "print(chain.invoke({}))"
   ]
  },
  {
   "cell_type": "markdown",
   "id": "9d29594e-1b30-45c3-b37d-1b28a94c172c",
   "metadata": {},
   "source": [
    "## 08. Pandas DataFrame 출력파서 (PandasDataFrameOutputParser)\n",
    "### 📌 개념\n",
    "\n",
    "- LLM 출력 → Pandas DataFrame으로 변환\n",
    "\n",
    "- 데이터 분석에 활용"
   ]
  },
  {
   "cell_type": "code",
   "execution_count": 15,
   "id": "ab173e63-2acd-4e52-b9b4-9347bef2a3ad",
   "metadata": {},
   "outputs": [],
   "source": [
    "# from langchain_experimental.output_parsers import PandasDataFrameOutputParser\n",
    "\n",
    "# parser = PandasDataFrameOutputParser()\n",
    "\n",
    "# prompt = PromptTemplate.from_template(\n",
    "#     \"3명의 이름과 나이를 표로 작성해줘.\\n{format_instructions}\"\n",
    "# )\n",
    "\n",
    "# chain = prompt.partial(format_instructions=parser.get_format_instructions()) | llm | parser\n",
    "# df = chain.invoke({})\n",
    "# print(df)\n",
    "# print(type(df))"
   ]
  },
  {
   "cell_type": "markdown",
   "id": "8ae3c547-e133-49ca-92fe-fcba8a8c2c4e",
   "metadata": {},
   "source": [
    "## 09. 날짜형식 출력파서 (DatetimeOutputParser)\n",
    "### 📌 개념\n",
    "\n",
    "- 문자열을 datetime 객체로 파싱"
   ]
  },
  {
   "cell_type": "code",
   "execution_count": 10,
   "id": "b2d3bc7c-e537-406b-a620-1414891542ec",
   "metadata": {},
   "outputs": [
    {
     "name": "stdout",
     "output_type": "stream",
     "text": [
      "2022-11-30 15:45:23.123456\n"
     ]
    }
   ],
   "source": [
    "from langchain.output_parsers import DatetimeOutputParser\n",
    "\n",
    "parser = DatetimeOutputParser()\n",
    "\n",
    "prompt = PromptTemplate.from_template(\"오늘 날짜를 {format_instructions}\")\n",
    "chain = prompt.partial(format_instructions=parser.get_format_instructions()) | llm | parser\n",
    "\n",
    "print(chain.invoke({}))"
   ]
  },
  {
   "cell_type": "markdown",
   "id": "b3b9757b-6d54-4953-b642-32d910bacade",
   "metadata": {},
   "source": [
    "## 10. 열거형 출력파서 (EnumOutputParser)\n",
    "### 📌 개념\n",
    "\n",
    "- LLM 출력 → Enum 타입으로 제한\n",
    "\n",
    "- 특정 선택지 중 하나만 받도록 강제"
   ]
  },
  {
   "cell_type": "code",
   "execution_count": 16,
   "id": "91bbd224-faaa-44b3-bf4e-b4ba93df6a38",
   "metadata": {},
   "outputs": [
    {
     "name": "stdout",
     "output_type": "stream",
     "text": [
      "Sentiment.positive\n"
     ]
    }
   ],
   "source": [
    "from enum import Enum\n",
    "from langchain.output_parsers import EnumOutputParser\n",
    "\n",
    "class Sentiment(Enum):\n",
    "    positive = \"positive\"\n",
    "    negative = \"negative\"\n",
    "    neutral = \"neutral\"\n",
    "\n",
    "parser = EnumOutputParser(enum=Sentiment)\n",
    "\n",
    "prompt = PromptTemplate.from_template(\n",
    "    \"다음 문장의 감정을 분류해줘: {sentence}\\n{format_instructions}\"\n",
    ")\n",
    "\n",
    "chain = prompt.partial(format_instructions=parser.get_format_instructions()) | llm | parser\n",
    "print(chain.invoke({\"sentence\": \"오늘은 기분이 좋다!\"}))"
   ]
  },
  {
   "cell_type": "markdown",
   "id": "1e53ead1-3ad7-44d2-bb11-5c7b4bc72409",
   "metadata": {},
   "source": [
    "## ✅ 정리\n",
    "\n",
    "- OutputParser = 자유 텍스트를 구조화 데이터로 변환\n",
    "\n",
    "### 주요 파서:\n",
    "\n",
    "- StrOutputParser → 단순 문자열\n",
    "\n",
    "- PydanticOutputParser → Pydantic 모델 기반\n",
    "\n",
    "- CommaSeparatedListOutputParser → 리스트\n",
    "\n",
    "- StructuredOutputParser / JsonOutputParser → JSON\n",
    "\n",
    "- PandasDataFrameOutputParser → DataFrame\n",
    "\n",
    "- DatetimeOutputParser → 날짜\n",
    "\n",
    "- EnumOutputParser → Enum 값\n",
    "\n",
    "- LangSmith에서 파싱 흐름 추적 가능"
   ]
  },
  {
   "cell_type": "code",
   "execution_count": null,
   "id": "990684f1-25ae-43d4-b23c-f6014c545471",
   "metadata": {},
   "outputs": [],
   "source": []
  }
 ],
 "metadata": {
  "kernelspec": {
   "display_name": "Python (my_new_env)",
   "language": "python",
   "name": "my_new_env"
  },
  "language_info": {
   "codemirror_mode": {
    "name": "ipython",
    "version": 3
   },
   "file_extension": ".py",
   "mimetype": "text/x-python",
   "name": "python",
   "nbconvert_exporter": "python",
   "pygments_lexer": "ipython3",
   "version": "3.9.20"
  }
 },
 "nbformat": 4,
 "nbformat_minor": 5
}
