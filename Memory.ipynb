{
 "cells": [
  {
   "cell_type": "markdown",
   "id": "89a7752d-1c0d-47e3-95dc-b5bc2fe20c21",
   "metadata": {},
   "source": [
    "# 📘 메모리 (Memory)\n",
    "\n",
    "---\n",
    "\n",
    "## 01. 메모리란 (00:02:02)\n",
    "\n",
    "### 📌 개념\n",
    "- 기본적으로 LLM은 이전 대화 내용을 기억하지 못함  \n",
    "- **Memory**를 활용하면 대화 기록을 보관/재사용 가능  \n",
    "- 주요 메모리 유형:\n",
    "  - Buffer (전체 대화 저장)\n",
    "  - Window (최근 n개 저장)\n",
    "  - TokenBuffer (토큰 단위 저장)\n",
    "  - Entity (개체 중심 저장)\n",
    "  - Knowledge Graph (지식 그래프 기반)\n",
    "  - Summary (요약 기반 저장)\n",
    "  - VectorStore (벡터 DB 기반 저장)\n",
    "\n",
    "---\n",
    "\n",
    "## 02. ConversationBufferMemory (00:10:33)\n",
    "\n",
    "### 📌 개념\n",
    "- **전체 대화 히스토리**를 저장  "
   ]
  },
  {
   "cell_type": "code",
   "execution_count": 1,
   "id": "7dc25f6e-a497-40a1-a339-972c509b7c28",
   "metadata": {},
   "outputs": [
    {
     "name": "stdout",
     "output_type": "stream",
     "text": [
      "sk-proj-73\n"
     ]
    }
   ],
   "source": [
    "### 💻 예시 코드\n",
    "import os\n",
    "from dotenv import load_dotenv\n",
    "\n",
    "load_dotenv()\n",
    "api_key = os.getenv(\"OPENAI_API_KEY\")\n",
    "print(api_key[:10]) "
   ]
  },
  {
   "cell_type": "code",
   "execution_count": 2,
   "id": "e5341b58-0911-498d-93ea-f7b87009cced",
   "metadata": {},
   "outputs": [
    {
     "name": "stderr",
     "output_type": "stream",
     "text": [
      "C:\\Users\\james\\AppData\\Local\\Temp\\ipykernel_8688\\2177794017.py:6: LangChainDeprecationWarning: Please see the migration guide at: https://python.langchain.com/docs/versions/migrating_memory/\n",
      "  memory = ConversationBufferMemory()\n",
      "C:\\Users\\james\\AppData\\Local\\Temp\\ipykernel_8688\\2177794017.py:7: LangChainDeprecationWarning: The class `ConversationChain` was deprecated in LangChain 0.2.7 and will be removed in 1.0. Use :meth:`~RunnableWithMessageHistory: https://python.langchain.com/v0.2/api_reference/core/runnables/langchain_core.runnables.history.RunnableWithMessageHistory.html` instead.\n",
      "  chain = ConversationChain(llm=llm, memory=memory, verbose=True)\n"
     ]
    },
    {
     "name": "stdout",
     "output_type": "stream",
     "text": [
      "\n",
      "\n",
      "\u001b[1m> Entering new ConversationChain chain...\u001b[0m\n",
      "Prompt after formatting:\n",
      "\u001b[32;1m\u001b[1;3mThe following is a friendly conversation between a human and an AI. The AI is talkative and provides lots of specific details from its context. If the AI does not know the answer to a question, it truthfully says it does not know.\n",
      "\n",
      "Current conversation:\n",
      "\n",
      "Human: 안녕?\n",
      "AI:\u001b[0m\n",
      "\n",
      "\u001b[1m> Finished chain.\u001b[0m\n",
      "{'input': '안녕?', 'history': '', 'response': '안녕하세요! 저는 인공지능 챗봇입니다. 어떻게 도와드릴까요?'}\n",
      "\n",
      "\n",
      "\u001b[1m> Entering new ConversationChain chain...\u001b[0m\n",
      "Prompt after formatting:\n",
      "\u001b[32;1m\u001b[1;3mThe following is a friendly conversation between a human and an AI. The AI is talkative and provides lots of specific details from its context. If the AI does not know the answer to a question, it truthfully says it does not know.\n",
      "\n",
      "Current conversation:\n",
      "Human: 안녕?\n",
      "AI: 안녕하세요! 저는 인공지능 챗봇입니다. 어떻게 도와드릴까요?\n",
      "Human: 내가 방금 뭐라고 했지?\n",
      "AI:\u001b[0m\n",
      "\n",
      "\u001b[1m> Finished chain.\u001b[0m\n",
      "{'input': '내가 방금 뭐라고 했지?', 'history': 'Human: 안녕?\\nAI: 안녕하세요! 저는 인공지능 챗봇입니다. 어떻게 도와드릴까요?', 'response': '안녕?'}\n"
     ]
    }
   ],
   "source": [
    "from langchain.memory import ConversationBufferMemory\n",
    "from langchain_openai import ChatOpenAI\n",
    "from langchain.chains import ConversationChain\n",
    "\n",
    "llm = ChatOpenAI(model=\"gpt-3.5-turbo\", temperature=0)\n",
    "memory = ConversationBufferMemory()\n",
    "chain = ConversationChain(llm=llm, memory=memory, verbose=True)\n",
    "\n",
    "print(chain.invoke(\"안녕?\"))\n",
    "print(chain.invoke(\"내가 방금 뭐라고 했지?\"))"
   ]
  },
  {
   "cell_type": "markdown",
   "id": "0b12c355-532c-4ed3-909d-83e4922e59e8",
   "metadata": {},
   "source": [
    "## 03. ConversationBufferWindowMemory \n",
    "### 📌 개념\n",
    "\n",
    "- 최근 n개 대화만 저장"
   ]
  },
  {
   "cell_type": "code",
   "execution_count": 3,
   "id": "5c74de3a-735e-4579-9c70-3de4cf77fb13",
   "metadata": {},
   "outputs": [
    {
     "name": "stderr",
     "output_type": "stream",
     "text": [
      "C:\\Users\\james\\AppData\\Local\\Temp\\ipykernel_8688\\19630597.py:3: LangChainDeprecationWarning: Please see the migration guide at: https://python.langchain.com/docs/versions/migrating_memory/\n",
      "  memory = ConversationBufferWindowMemory(k=1)  # 최근 1개만 기억\n"
     ]
    },
    {
     "name": "stdout",
     "output_type": "stream",
     "text": [
      "\n",
      "\n",
      "\u001b[1m> Entering new ConversationChain chain...\u001b[0m\n",
      "Prompt after formatting:\n",
      "\u001b[32;1m\u001b[1;3mThe following is a friendly conversation between a human and an AI. The AI is talkative and provides lots of specific details from its context. If the AI does not know the answer to a question, it truthfully says it does not know.\n",
      "\n",
      "Current conversation:\n",
      "\n",
      "Human: 나는 철수야.\n",
      "AI:\u001b[0m\n",
      "\n",
      "\u001b[1m> Finished chain.\u001b[0m\n",
      "{'input': '나는 철수야.', 'history': '', 'response': '안녕 철수야! 나는 인공지능이야. 너의 이름은 멋지다. 어떻게 지내?'}\n",
      "\n",
      "\n",
      "\u001b[1m> Entering new ConversationChain chain...\u001b[0m\n",
      "Prompt after formatting:\n",
      "\u001b[32;1m\u001b[1;3mThe following is a friendly conversation between a human and an AI. The AI is talkative and provides lots of specific details from its context. If the AI does not know the answer to a question, it truthfully says it does not know.\n",
      "\n",
      "Current conversation:\n",
      "Human: 나는 철수야.\n",
      "AI: 안녕 철수야! 나는 인공지능이야. 너의 이름은 멋지다. 어떻게 지내?\n",
      "Human: 내 이름이 뭐였지?\n",
      "AI:\u001b[0m\n",
      "\n",
      "\u001b[1m> Finished chain.\u001b[0m\n",
      "{'input': '내 이름이 뭐였지?', 'history': 'Human: 나는 철수야.\\nAI: 안녕 철수야! 나는 인공지능이야. 너의 이름은 멋지다. 어떻게 지내?', 'response': '네 이름은 철수야. 저번에 말했었어요. 지금은 어떻게 지내?'}\n"
     ]
    }
   ],
   "source": [
    "from langchain.memory import ConversationBufferWindowMemory\n",
    "\n",
    "memory = ConversationBufferWindowMemory(k=1)  # 최근 1개만 기억\n",
    "chain = ConversationChain(llm=llm, memory=memory, verbose=True)\n",
    "\n",
    "print(chain.invoke(\"나는 철수야.\"))\n",
    "print(chain.invoke(\"내 이름이 뭐였지?\")) "
   ]
  },
  {
   "cell_type": "markdown",
   "id": "b56846db-49d7-4b66-89f5-24359126286b",
   "metadata": {},
   "source": [
    "## 04. ConversationTokenBufferMemory \n",
    "### 📌 개념\n",
    "\n",
    "- 토큰 단위로 히스토리 저장\n",
    "\n",
    "- 지정한 토큰 길이를 넘으면 오래된 대화 삭제"
   ]
  },
  {
   "cell_type": "code",
   "execution_count": 4,
   "id": "7a8f1a8d-fccf-43fc-905a-aab981e06ffc",
   "metadata": {},
   "outputs": [
    {
     "name": "stderr",
     "output_type": "stream",
     "text": [
      "C:\\Users\\james\\AppData\\Local\\Temp\\ipykernel_8688\\1779030638.py:3: LangChainDeprecationWarning: Please see the migration guide at: https://python.langchain.com/docs/versions/migrating_memory/\n",
      "  memory = ConversationTokenBufferMemory(llm=llm, max_token_limit=50)\n"
     ]
    },
    {
     "name": "stdout",
     "output_type": "stream",
     "text": [
      "\n",
      "\n",
      "\u001b[1m> Entering new ConversationChain chain...\u001b[0m\n",
      "Prompt after formatting:\n",
      "\u001b[32;1m\u001b[1;3mThe following is a friendly conversation between a human and an AI. The AI is talkative and provides lots of specific details from its context. If the AI does not know the answer to a question, it truthfully says it does not know.\n",
      "\n",
      "Current conversation:\n",
      "\n",
      "Human: 오늘 점심은 파스타 먹었어.\n",
      "AI:\u001b[0m\n",
      "\n",
      "\u001b[1m> Finished chain.\u001b[0m\n",
      "{'input': '오늘 점심은 파스타 먹었어.', 'history': '', 'response': '파스타는 정말 맛있는 선택이에요! 어떤 종류의 파스타를 먹었나요? 크림소스, 토마토소스, 혹은 다른 종류의 소스를 선택했나요?'}\n",
      "\n",
      "\n",
      "\u001b[1m> Entering new ConversationChain chain...\u001b[0m\n",
      "Prompt after formatting:\n",
      "\u001b[32;1m\u001b[1;3mThe following is a friendly conversation between a human and an AI. The AI is talkative and provides lots of specific details from its context. If the AI does not know the answer to a question, it truthfully says it does not know.\n",
      "\n",
      "Current conversation:\n",
      "\n",
      "Human: 내가 뭐 먹었다고 했지?\n",
      "AI:\u001b[0m\n",
      "\n",
      "\u001b[1m> Finished chain.\u001b[0m\n",
      "{'input': '내가 뭐 먹었다고 했지?', 'history': '', 'response': '죄송합니다, 그 정보는 제가 알 수 없습니다. 무엇을 먹었는지 자세히 말씀해주시면 도와드릴 수 있을 것 같아요.'}\n"
     ]
    }
   ],
   "source": [
    "from langchain.memory import ConversationTokenBufferMemory\n",
    "\n",
    "memory = ConversationTokenBufferMemory(llm=llm, max_token_limit=50)\n",
    "chain = ConversationChain(llm=llm, memory=memory, verbose=True)\n",
    "\n",
    "print(chain.invoke(\"오늘 점심은 파스타 먹었어.\"))\n",
    "print(chain.invoke(\"내가 뭐 먹었다고 했지?\"))"
   ]
  },
  {
   "cell_type": "markdown",
   "id": "2e1b8e65-eaf6-4e61-82d4-4df4051afc99",
   "metadata": {},
   "source": [
    "## 05. ConversationEntityMemory\n",
    "### 📌 개념\n",
    "\n",
    "- 대화에서 개체(entity)를 추출해서 기억\n",
    "\n",
    "- 사람, 장소, 조직 같은 정보 유지"
   ]
  },
  {
   "cell_type": "code",
   "execution_count": 6,
   "id": "aaa1cf99-7465-40bd-a79f-fb4141ff8c92",
   "metadata": {},
   "outputs": [],
   "source": [
    "# from langchain.memory import ConversationEntityMemory\n",
    "\n",
    "# memory = ConversationEntityMemory(llm=llm)\n",
    "# chain = ConversationChain(llm=llm, memory=memory, verbose=True)\n",
    "\n",
    "# print(chain.invoke(\"내 친구는 영희야.\"))\n",
    "# print(chain.invoke(\"내 친구 이름이 뭐지?\"))"
   ]
  },
  {
   "cell_type": "markdown",
   "id": "795abbfd-c355-4172-8aad-36b5796ae95c",
   "metadata": {},
   "source": [
    "## 06. ConversationKGMemory\n",
    "### 📌 개념\n",
    "\n",
    "- 대화에서 지식 그래프(Knowledge Graph) 형태로 관계 저장"
   ]
  },
  {
   "cell_type": "code",
   "execution_count": 10,
   "id": "9790254b-ea8d-4629-8227-8612ab824862",
   "metadata": {},
   "outputs": [],
   "source": [
    "# from langchain.memory import ConversationKGMemory\n",
    "\n",
    "# memory = ConversationKGMemory(llm=llm)\n",
    "# chain = ConversationChain(llm=llm, memory=memory, verbose=True)\n",
    "\n",
    "# print(chain.invoke(\"철수는 영희의 친구야.\"))\n",
    "# print(chain.invoke(\"철수와 영희는 어떤 관계지?\"))"
   ]
  },
  {
   "cell_type": "markdown",
   "id": "e5eb5a8d-fd94-4538-a260-03aec14cbd68",
   "metadata": {},
   "source": [
    "## 07. ConversationSummaryMemory \n",
    "### 📌 개념\n",
    "\n",
    "- 대화가 길어지면 전체 저장 대신 요약해서 유지\n",
    "\n",
    "- 긴 대화에도 유용"
   ]
  },
  {
   "cell_type": "code",
   "execution_count": 11,
   "id": "af26ec10-3f41-44ec-9163-eff34aab171e",
   "metadata": {},
   "outputs": [
    {
     "name": "stderr",
     "output_type": "stream",
     "text": [
      "C:\\Users\\james\\AppData\\Local\\Temp\\ipykernel_8688\\3963364838.py:3: LangChainDeprecationWarning: Please see the migration guide at: https://python.langchain.com/docs/versions/migrating_memory/\n",
      "  memory = ConversationSummaryMemory(llm=llm)\n"
     ]
    },
    {
     "name": "stdout",
     "output_type": "stream",
     "text": [
      "\n",
      "\n",
      "\u001b[1m> Entering new ConversationChain chain...\u001b[0m\n",
      "Prompt after formatting:\n",
      "\u001b[32;1m\u001b[1;3mThe following is a friendly conversation between a human and an AI. The AI is talkative and provides lots of specific details from its context. If the AI does not know the answer to a question, it truthfully says it does not know.\n",
      "\n",
      "Current conversation:\n",
      "\n",
      "Human: 오늘 나는 영화관에 갔어. 액션 영화였어.\n",
      "AI:\u001b[0m\n",
      "\n",
      "\u001b[1m> Finished chain.\u001b[0m\n",
      "{'input': '오늘 나는 영화관에 갔어. 액션 영화였어.', 'history': '', 'response': '정말요? 어떤 영화를 보셨나요? 저는 영화에 대해 많은 정보를 가지고 있어요.'}\n",
      "\n",
      "\n",
      "\u001b[1m> Entering new ConversationChain chain...\u001b[0m\n",
      "Prompt after formatting:\n",
      "\u001b[32;1m\u001b[1;3mThe following is a friendly conversation between a human and an AI. The AI is talkative and provides lots of specific details from its context. If the AI does not know the answer to a question, it truthfully says it does not know.\n",
      "\n",
      "Current conversation:\n",
      "The human tells the AI they went to the movie theater today to watch an action movie. The AI asks for more details about the movie, mentioning it has a lot of information about films.\n",
      "Human: 내가 오늘 뭐 했지?\n",
      "AI:\u001b[0m\n",
      "\n",
      "\u001b[1m> Finished chain.\u001b[0m\n",
      "{'input': '내가 오늘 뭐 했지?', 'history': 'The human tells the AI they went to the movie theater today to watch an action movie. The AI asks for more details about the movie, mentioning it has a lot of information about films.', 'response': '영화관에 가서 액션 영화를 보러 갔다고 했네요! 어떤 영화를 보셨는지 자세히 말해주실래요? 영화에 대해 많은 정보를 가지고 있어요.'}\n"
     ]
    }
   ],
   "source": [
    "from langchain.memory import ConversationSummaryMemory\n",
    "\n",
    "memory = ConversationSummaryMemory(llm=llm)\n",
    "chain = ConversationChain(llm=llm, memory=memory, verbose=True)\n",
    "\n",
    "print(chain.invoke(\"오늘 나는 영화관에 갔어. 액션 영화였어.\"))\n",
    "print(chain.invoke(\"내가 오늘 뭐 했지?\"))"
   ]
  },
  {
   "cell_type": "markdown",
   "id": "d7057d76-3559-4344-a189-ae0f4809384a",
   "metadata": {},
   "source": [
    "## 08. VectorStoreRetrieverMemory\n",
    "### 📌 개념\n",
    "\n",
    "- 대화 내용을 벡터 DB에 저장 후 검색\n",
    "\n",
    "- 긴 대화나 외부 지식 연동 시 유용"
   ]
  },
  {
   "cell_type": "code",
   "execution_count": 13,
   "id": "77818e4f-b6e2-4d9f-a084-ba6788db8065",
   "metadata": {},
   "outputs": [],
   "source": [
    "# from langchain.memory import VectorStoreRetrieverMemory\n",
    "# from langchain.vectorstores import FAISS\n",
    "# from langchain_openai import OpenAIEmbeddings\n",
    "\n",
    "# embeddings = OpenAIEmbeddings()\n",
    "# vectorstore = FAISS.from_texts([\"샘플 데이터\"], embeddings)\n",
    "\n",
    "# retriever = vectorstore.as_retriever()\n",
    "# memory = VectorStoreRetrieverMemory(retriever=retriever)\n",
    "\n",
    "# memory.save_context({\"input\": \"내 이름은 철수야\"}, {\"output\": \"알겠어\"})\n",
    "# print(memory.load_memory_variables({\"input\": \"내 이름이 뭐였지?\"}))"
   ]
  },
  {
   "cell_type": "markdown",
   "id": "5436fe48-457e-4e27-8386-37c2be842c75",
   "metadata": {},
   "source": [
    "## 09. LCEL Chain 에 메모리 추가 \n",
    "### 📌 개념\n",
    "\n",
    "- LCEL(LangChain Expression Language)로 체인 구성 시 메모리 추가 가능"
   ]
  },
  {
   "cell_type": "code",
   "execution_count": 15,
   "id": "d85c9f64-ec96-4ea7-a2c1-84969ad47df9",
   "metadata": {},
   "outputs": [],
   "source": [
    "# from langchain.prompts import ChatPromptTemplate\n",
    "\n",
    "# prompt = ChatPromptTemplate.from_messages([\n",
    "#     (\"system\", \"너는 기억력이 좋은 어시스턴트야.\"),\n",
    "#     (\"human\", \"{input}\")\n",
    "# ])\n",
    "\n",
    "# memory = ConversationBufferMemory(return_messages=True)\n",
    "# chain = prompt | llm | memory"
   ]
  },
  {
   "cell_type": "markdown",
   "id": "30f90cfb-c555-4030-a581-b3930f6f77b6",
   "metadata": {},
   "source": [
    "## 10. SQLite 에 대화내용 (사용자 및 대화별) 저장 \n",
    "### 📌 개념\n",
    "\n",
    "- 메모리를 SQLite DB에 저장해 세션별 기록 관리 가능"
   ]
  },
  {
   "cell_type": "code",
   "execution_count": 17,
   "id": "964a02c1-0938-47f6-ada1-92ad9d2909cd",
   "metadata": {},
   "outputs": [],
   "source": [
    "# from langchain.memory import SQLiteChatMessageHistory\n",
    "\n",
    "# history = SQLiteChatMessageHistory(database_path=\"chat_memory.db\", session_id=\"user1\")\n",
    "# history.add_user_message(\"안녕?\")\n",
    "# history.add_ai_message(\"안녕하세요!\")\n",
    "\n",
    "# print(history.messages)"
   ]
  },
  {
   "cell_type": "markdown",
   "id": "c34fd752-395a-40b3-a0c4-cba71410123e",
   "metadata": {},
   "source": [
    "## 11. 일반 변수에 대화내용 저장(휘발성 메모리)\n",
    "### 📌 개념\n",
    "\n",
    "- 대화 내용을 파이썬 변수(list 등)에 저장하는 단순 메모리\n",
    "\n",
    "- 프로그램 종료 시 휘발성"
   ]
  },
  {
   "cell_type": "code",
   "execution_count": 18,
   "id": "410302ba-8a86-4a11-877c-162739677a32",
   "metadata": {},
   "outputs": [
    {
     "name": "stdout",
     "output_type": "stream",
     "text": [
      "[{'user': '안녕?', 'ai': '안녕하세요!'}, {'user': '오늘 날씨 어때?', 'ai': '오늘은 맑습니다.'}]\n"
     ]
    }
   ],
   "source": [
    "conversation_log = []\n",
    "\n",
    "def chat(user_input, ai_response):\n",
    "    conversation_log.append({\"user\": user_input, \"ai\": ai_response})\n",
    "\n",
    "chat(\"안녕?\", \"안녕하세요!\")\n",
    "chat(\"오늘 날씨 어때?\", \"오늘은 맑습니다.\")\n",
    "\n",
    "print(conversation_log)"
   ]
  },
  {
   "cell_type": "markdown",
   "id": "47af5852-090d-403b-99c4-75c29d816ad5",
   "metadata": {},
   "source": [
    "## ✅ 정리\n",
    "\n",
    "- Buffer / Window / TokenBuffer → 대화 길이 제어 방식\n",
    "\n",
    "- Entity / KG / Summary → 의미 중심 저장\n",
    "\n",
    "- VectorStore → 벡터 DB 기반 검색\n",
    "\n",
    "- SQLite → 영구 저장\n",
    "\n",
    "- 일반 변수 → 휘발성 메모리"
   ]
  },
  {
   "cell_type": "code",
   "execution_count": null,
   "id": "f598f89d-5a74-4086-92f5-e28c465f1413",
   "metadata": {},
   "outputs": [],
   "source": []
  }
 ],
 "metadata": {
  "kernelspec": {
   "display_name": "Python (my_new_env)",
   "language": "python",
   "name": "my_new_env"
  },
  "language_info": {
   "codemirror_mode": {
    "name": "ipython",
    "version": 3
   },
   "file_extension": ".py",
   "mimetype": "text/x-python",
   "name": "python",
   "nbconvert_exporter": "python",
   "pygments_lexer": "ipython3",
   "version": "3.9.20"
  }
 },
 "nbformat": 4,
 "nbformat_minor": 5
}
