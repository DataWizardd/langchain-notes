{
 "cells": [
  {
   "cell_type": "markdown",
   "id": "e53d03b3-f639-4d58-a167-c735b7276099",
   "metadata": {},
   "source": [
    "### 📌 리랭커(Reranker) 개요\n",
    "- **RAG 파이프라인에서 검색된 결과를 재정렬(재랭킹)하는 모듈**\n",
    "- 벡터 검색은 \"의미적으로 비슷한 후보\"를 뽑아줌  \n",
    "- 리랭커는 후보들을 다시 **정밀하게 점수화 & 순위 조정**\n",
    "- 방법:\n",
    "  - **Cross-Encoder 기반** (쿼리 + 문서 함께 입력 → 정밀 점수 산출)\n",
    "  - **외부 API 기반** (Cohere, Jina 등)\n",
    "- 장점: 검색 정확도 ↑, 최종 답변 품질 향상\n"
   ]
  },
  {
   "cell_type": "code",
   "execution_count": 1,
   "id": "9f2bcde6-867d-4449-9857-014fab858f81",
   "metadata": {},
   "outputs": [],
   "source": [
    "# # 01. 리랭커(Reranker) 개요\n",
    "# from langchain_openai import OpenAIEmbeddings\n",
    "# from langchain_community.vectorstores import FAISS\n",
    "\n",
    "# # 임베딩 + 벡터스토어 기본 검색\n",
    "# embeddings = OpenAIEmbeddings(model=\"text-embedding-3-small\")\n",
    "# texts = [\"고양이는 귀엽다\", \"강아지는 충성스럽다\", \"호랑이는 멋지다\", \"고양이는 집에서 많이 키운다\"]\n",
    "# vectorstore = FAISS.from_texts(texts, embeddings)\n",
    "\n",
    "# query = \"애완동물\"\n",
    "# docs = vectorstore.similarity_search(query, k=3)\n",
    "# for d in docs:\n",
    "#     print(d.page_content)"
   ]
  },
  {
   "cell_type": "markdown",
   "id": "b0b63de7-7bf0-4aec-8f61-d62610e595db",
   "metadata": {},
   "source": [
    "### 📌 CrossEncoderReranker (BGE-m3-reranker)\n",
    "- **BAAI(bge)**에서 제공하는 Cross-Encoder 기반 리랭커\n",
    "- 쿼리와 문서를 동시에 인코딩 → **정밀한 유사도 점수 산출**\n",
    "- 장점:\n",
    "  - 높은 정확도 (RAG 품질 크게 향상)\n",
    "- 단점:\n",
    "  - 느림 (모든 후보를 모델에 재입력해야 함)\n",
    "- 주로 **후처리 단계**에서 top-k 후보 정렬에 사용\n"
   ]
  },
  {
   "cell_type": "code",
   "execution_count": 2,
   "id": "5f4e6bbb-6ab2-4cbd-875a-bea4c4ad69f0",
   "metadata": {},
   "outputs": [],
   "source": [
    "# # 02. CrossEncoderReranker (BGE-m3-reranker)\n",
    "# from langchain_community.rerankers.cross_encoder import CrossEncoderReranker\n",
    "\n",
    "# reranker = CrossEncoderReranker(model=\"BAAI/bge-reranker-large\")\n",
    "\n",
    "# query = \"집에서 키우는 동물\"\n",
    "# results = reranker.rerank(query, docs)\n",
    "\n",
    "# for r in results:\n",
    "#     print(r.page_content, r.metadata.get(\"relevance_score\"))"
   ]
  },
  {
   "cell_type": "markdown",
   "id": "059efaa4-2b72-474f-b72b-d1d8150898a0",
   "metadata": {},
   "source": [
    "### 📌 CohereReranker\n",
    "- **Cohere API** 기반 리랭커\n",
    "- 미리 학습된 `rerank-english-v2.0` 등 제공\n",
    "- 장점:\n",
    "  - API 호출만으로 사용 (빠른 시작 가능)\n",
    "  - 성능 안정적\n",
    "- 단점:\n",
    "  - 외부 API 비용 발생\n",
    "- 클라우드 기반 RAG 서비스에 적합"
   ]
  },
  {
   "cell_type": "code",
   "execution_count": 3,
   "id": "dc0651ee-b468-403d-8db2-44780459d1a9",
   "metadata": {},
   "outputs": [],
   "source": [
    "# # 03. CohereReranker\n",
    "# # pip install cohere\n",
    "# from langchain_community.rerankers import CohereReranker\n",
    "\n",
    "# reranker = CohereReranker(model=\"rerank-english-v2.0\", api_key=\"YOUR_COHERE_API_KEY\")\n",
    "\n",
    "# query = \"집에서 키우는 동물\"\n",
    "# results = reranker.rerank(query, docs)\n",
    "\n",
    "# for r in results:\n",
    "#     print(r.page_content, r.metadata.get(\"relevance_score\"))"
   ]
  },
  {
   "cell_type": "markdown",
   "id": "c9d3aeb5-113a-4af7-b6c4-7c7648695522",
   "metadata": {},
   "source": [
    "### 📌 JinaReranker\n",
    "- **Jina AI**에서 제공하는 리랭커\n",
    "- 오픈소스 & API 기반\n",
    "- 장점:\n",
    "  - 빠르고 가벼움\n",
    "  - 영어 검색 성능 우수\n",
    "- 단점:\n",
    "  - 한국어 등 다국어 성능은 제한적\n"
   ]
  },
  {
   "cell_type": "code",
   "execution_count": 4,
   "id": "18f9ea1d-5086-4dd2-a058-ed9ef844ac18",
   "metadata": {},
   "outputs": [],
   "source": [
    "# # 04. JinaReranker\n",
    "# # pip install jina-ai\n",
    "# from langchain_community.rerankers import JinaReranker\n",
    "\n",
    "# reranker = JinaReranker(model=\"jina-reranker-v1-base-en\")\n",
    "\n",
    "# query = \"집에서 키우는 동물\"\n",
    "# results = reranker.rerank(query, docs)\n",
    "\n",
    "# for r in results:\n",
    "#     print(r.page_content, r.metadata.get(\"relevance_score\"))"
   ]
  },
  {
   "cell_type": "markdown",
   "id": "a922cc09-db74-49ec-97ec-ef17ee0896b7",
   "metadata": {},
   "source": [
    "### 📌 FlashRankReranker\n",
    "- **FlashRank**: 경량화된 리랭킹 모델\n",
    "- 주로 **MS MARCO** 데이터셋 기반 소형 모델 사용\n",
    "- 장점:\n",
    "  - 빠른 속도 (실시간 검색에 적합)\n",
    "  - 로컬 실행 가능 (API 의존 없음)\n",
    "- 단점:\n",
    "  - 대형 Cross-Encoder 대비 정밀도는 다소 낮음\n",
    "- 적합한 경우:\n",
    "  - **온프레미스 환경** (외부 API 불가)\n",
    "  - **실시간 응답 속도 중시**"
   ]
  },
  {
   "cell_type": "code",
   "execution_count": 6,
   "id": "c9ce5c95-7a42-4799-bd14-70894d35ca41",
   "metadata": {},
   "outputs": [],
   "source": [
    "# # 05. FlashRankReranker\n",
    "# # pip install flashrank\n",
    "# from langchain_community.rerankers import FlashrankReranker\n",
    "\n",
    "# reranker = FlashrankReranker(model=\"ms-marco-MiniLM-L-12-v2\")\n",
    "\n",
    "# query = \"집에서 키우는 동물\"\n",
    "# results = reranker.rerank(query, docs)\n",
    "\n",
    "# for r in results:\n",
    "#     print(r.page_content, r.metadata.get(\"relevance_score\"))"
   ]
  },
  {
   "cell_type": "markdown",
   "id": "3ab115ca-43a1-43c8-8251-4c17341804b7",
   "metadata": {},
   "source": [
    "## ✅ 최종 정리\n",
    "\n",
    "- **CrossEncoderReranker (BGE-m3)**  \n",
    "  - 가장 정밀, 하지만 속도 느림 → 후처리 Top-k 정렬 적합\n",
    "\n",
    "- **CohereReranker**  \n",
    "  - 클라우드 API 기반, 안정적 성능 → SaaS/클라우드 서비스 적합\n",
    "\n",
    "- **JinaReranker**  \n",
    "  - 가볍고 빠름, 영어 검색 특화 → 영어 중심 서비스 적합\n",
    "\n",
    "- **FlashRankReranker**  \n",
    "  - 초경량, 로컬 실행 가능 → 온프레미스/실시간 서비스 적합\n",
    "\n",
    "👉 벡터 검색(Recall) + 리랭커(Precision) 조합이 최종 RAG 성능을 크게 결정합니다."
   ]
  },
  {
   "cell_type": "code",
   "execution_count": null,
   "id": "bab2ff77-205c-4024-b215-19b05882c610",
   "metadata": {},
   "outputs": [],
   "source": []
  }
 ],
 "metadata": {
  "kernelspec": {
   "display_name": "Python (my_new_env)",
   "language": "python",
   "name": "my_new_env"
  },
  "language_info": {
   "codemirror_mode": {
    "name": "ipython",
    "version": 3
   },
   "file_extension": ".py",
   "mimetype": "text/x-python",
   "name": "python",
   "nbconvert_exporter": "python",
   "pygments_lexer": "ipython3",
   "version": "3.9.20"
  }
 },
 "nbformat": 4,
 "nbformat_minor": 5
}
